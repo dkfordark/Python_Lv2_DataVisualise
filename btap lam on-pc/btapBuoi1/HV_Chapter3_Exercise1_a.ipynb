{
 "cells": [
  {
   "cell_type": "markdown",
   "metadata": {
    "id": "dlvl6kiulffy"
   },
   "source": [
    "## Chapter 3 - Exercise 1a: Thực hiện các yêu cầu sau, và đối chiếu với kết quả cho trước"
   ]
  },
  {
   "cell_type": "code",
   "execution_count": 2,
   "metadata": {
    "id": "gr8DM63nlff1"
   },
   "outputs": [],
   "source": [
    "import numpy as np"
   ]
  },
  {
   "cell_type": "code",
   "execution_count": 7,
   "metadata": {
    "id": "xBDidl2SmUe2"
   },
   "outputs": [
    {
     "name": "stdout",
     "output_type": "stream",
     "text": [
      "Cac phan tu cua array: [0 1 2 3 4 5 6 7 8 9]\n",
      "<class 'numpy.ndarray'>\n",
      "Kich thuoc shape:  (10,)\n"
     ]
    }
   ],
   "source": [
    "# Câu 1: Tạo numpy array có giá trị từ 0-9 và lưu vào biến arr\n",
    "arr = np.array([0,1,2,3,4,5,6,7,8,9])\n",
    "# Hiển thị các phần tử có trong arr\n",
    "print(\"Cac phan tu cua array:\",arr)\n",
    "# Xem kiểu dữ liệu (type) của arr\n",
    "print(type(arr))\n",
    "# Xem kích thước (shape) của arr\n",
    "print(\"Kich thuoc shape: \",arr.shape)\n"
   ]
  },
  {
   "cell_type": "markdown",
   "metadata": {
    "id": "HOm-aKKhUrZz"
   },
   "source": [
    "<details>\n",
    "  <summary>Nhấn vào đây để xem kết quả!</summary>\n",
    "  <pre>[0 1 2 3 4 5 6 7 8 9]\n",
    "&lt;class 'numpy.ndarray'&gt;\n",
    "(10,)\n",
    "</pre>\n",
    "  \n",
    "</details>"
   ]
  },
  {
   "cell_type": "code",
   "execution_count": 11,
   "metadata": {
    "id": "h1gyIEtolff4"
   },
   "outputs": [
    {
     "name": "stdout",
     "output_type": "stream",
     "text": [
      "Ptu trong arr_odd:\t [1 3 5 7 9]\n",
      "Ptu trong arr_even:\t [0 2 4 6 8]\n"
     ]
    }
   ],
   "source": [
    "# Câu 2: Từ array arr ở câu 1 => tạo arr_odd và arr_even \n",
    "arr_odd = arr[arr%2!=0]\n",
    "arr_even = arr[arr%2==0]\n",
    "# Hiển thị các phần tử có trong arr_odd và arr_even\n",
    "print(\"Ptu trong arr_odd:\\t\",arr_odd)\n",
    "print(\"Ptu trong arr_even:\\t\",arr_even)\n"
   ]
  },
  {
   "cell_type": "markdown",
   "metadata": {
    "id": "xnCW39w4UrZ0"
   },
   "source": [
    "<details>\n",
    "  <summary>Nhấn vào đây để xem kết quả!</summary>\n",
    "  <pre>Odd array:\n",
    "[1 3 5 7 9]\n",
    "Event array:\n",
    "[0 2 4 6 8]\n",
    "</pre>\n",
    "  \n",
    "</details>"
   ]
  },
  {
   "cell_type": "code",
   "execution_count": 25,
   "metadata": {
    "id": "OL6Y8tdxlff6"
   },
   "outputs": [
    {
     "name": "stdout",
     "output_type": "stream",
     "text": [
      "arr_updated [  0 100   2 100   4 100   6 100   8 100]\n"
     ]
    }
   ],
   "source": [
    "# Câu 3: Từ array arr ở câu 1=> tạo arr_update_1 với các phần tử chẵn giữ nguyên, các phần tử lẻ thay bằng 100\n",
    "arr_update = arr.copy()\n",
    "arr_update[arr_update%2==1]=100\n",
    "\n",
    "# Hiển thị các phần tử có trong arr_update_1\n",
    "print(\"arr_updated\", arr_update)"
   ]
  },
  {
   "cell_type": "markdown",
   "metadata": {
    "id": "75JOKknAUrZ2"
   },
   "source": [
    "<details>\n",
    "  <summary>Nhấn vào đây để xem kết quả!</summary>\n",
    "  <pre>[  0 100   2 100   4 100   6 100   8 100]\n",
    "</pre>\n",
    "  \n",
    "</details>"
   ]
  }
 ],
 "metadata": {
  "colab": {
   "name": "HV_Chapter3_Exercise1_a.ipynb",
   "provenance": []
  },
  "kernelspec": {
   "display_name": "Python 3 (ipykernel)",
   "language": "python",
   "name": "python3"
  },
  "language_info": {
   "codemirror_mode": {
    "name": "ipython",
    "version": 3
   },
   "file_extension": ".py",
   "mimetype": "text/x-python",
   "name": "python",
   "nbconvert_exporter": "python",
   "pygments_lexer": "ipython3",
   "version": "3.9.6"
  }
 },
 "nbformat": 4,
 "nbformat_minor": 1
}

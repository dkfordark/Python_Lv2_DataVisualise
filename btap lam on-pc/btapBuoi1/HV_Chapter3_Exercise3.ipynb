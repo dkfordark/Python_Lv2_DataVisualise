{
  "nbformat": 4,
  "nbformat_minor": 0,
  "metadata": {
    "kernelspec": {
      "display_name": "Python 3 (ipykernel)",
      "language": "python",
      "name": "python3"
    },
    "language_info": {
      "codemirror_mode": {
        "name": "ipython",
        "version": 3
      },
      "file_extension": ".py",
      "mimetype": "text/x-python",
      "name": "python",
      "nbconvert_exporter": "python",
      "pygments_lexer": "ipython3",
      "version": "3.9.6"
    },
    "colab": {
      "name": "HV_Chapter3_Exercise3.ipynb",
      "provenance": [],
      "collapsed_sections": []
    }
  },
  "cells": [
    {
      "cell_type": "markdown",
      "metadata": {
        "id": "8c8tQw1iMr9S"
      },
      "source": [
        "## Chapter 3 - Exercise 3: Thao tác trên mảng nhiều chiều, và đối chiếu với kết quả cho trước:"
      ]
    },
    {
      "cell_type": "code",
      "metadata": {
        "id": "LQXRmQr5Mr9a"
      },
      "source": [
        "import numpy as np"
      ],
      "execution_count": null,
      "outputs": []
    },
    {
      "cell_type": "code",
      "metadata": {
        "colab": {
          "base_uri": "https://localhost:8080/"
        },
        "id": "5khsIb-IMr9c",
        "outputId": "2bfa31b7-d95c-45ed-fed4-39526b46c5c3"
      },
      "source": [
        "# Câu 1: Tạo array arr có kích thước 3x3 với tất cả các giá trị đều là True. \n",
        "arr = np.ones([3,3],dtype=bool)\n",
        "# Hiển thị các phần tử của array arr\n",
        "print(\"arr 3x3 gia tri True:\\n\",arr)"
      ],
      "execution_count": null,
      "outputs": [
        {
          "output_type": "stream",
          "name": "stdout",
          "text": [
            "arr 3x3 gia tri True:\n",
            " [[ True  True  True]\n",
            " [ True  True  True]\n",
            " [ True  True  True]]\n"
          ]
        }
      ]
    },
    {
      "cell_type": "markdown",
      "metadata": {
        "id": "l3yNB5JtMr9d"
      },
      "source": [
        "<details>\n",
        "  <summary>Nhấn vào đây để xem kết quả!</summary>\n",
        "  <pre>[[ True  True  True]\n",
        " [ True  True  True]\n",
        " [ True  True  True]]\n",
        "</pre>\n",
        "  \n",
        "</details>"
      ]
    },
    {
      "cell_type": "code",
      "metadata": {
        "colab": {
          "base_uri": "https://localhost:8080/"
        },
        "id": "hk1ivcNVMr9d",
        "outputId": "8add54e8-4c78-4d76-a856-c37d8a61869a"
      },
      "source": [
        "# Câu 2: Cho array arr_1D = np.array([0, 1, 2, 3, 4, 5, 6, 7, 8]). \n",
        "arr_1D = np.array([0, 1, 2, 3, 4, 5, 6, 7, 8])\n",
        "print(\"Arr 1D:\", arr_1D)\n",
        "# Hãy chuyển thành array 2 chiều có kích thước 3x3 và lưu vào arr_2D.\n",
        "arr_2D = arr_1D.reshape(3,3)\n",
        "# Xem danh sách các phần tử của arr_2D. \n",
        "print(\"Arr_2D:\")\n",
        "print(arr_2D)\n",
        "# Trong arr_2D. Chuyển cột 1 sang cột 3 và ngược lại. => Xem lại danh sách các phần tử của arr_2D\n",
        "arr_2D = arr_2D[:,[2,1,0]]\n",
        "print(\"Arr2D sau chuyen doi cot:\")\n",
        "print(arr_2D)\n"
      ],
      "execution_count": null,
      "outputs": [
        {
          "output_type": "stream",
          "name": "stdout",
          "text": [
            "Arr 1D: [0 1 2 3 4 5 6 7 8]\n",
            "Arr_2D:\n",
            "[[0 1 2]\n",
            " [3 4 5]\n",
            " [6 7 8]]\n",
            "Arr2D sau chuyen doi cot:\n",
            "[[2 1 0]\n",
            " [5 4 3]\n",
            " [8 7 6]]\n"
          ]
        }
      ]
    },
    {
      "cell_type": "markdown",
      "metadata": {
        "id": "RE8JO-LkMr9e"
      },
      "source": [
        "<details>\n",
        "  <summary>Nhấn vào đây để xem kết quả!</summary>\n",
        "  <pre>[0 1 2 3 4 5 6 7 8]\n",
        "arr_2D: \n",
        "[[0 1 2]\n",
        " [3 4 5]\n",
        " [6 7 8]]\n",
        "arr_2D sau khi chuyển cột: \n",
        "[[2 1 0]\n",
        " [5 4 3]\n",
        " [8 7 6]]\n",
        "</pre>\n",
        "  \n",
        "</details>"
      ]
    },
    {
      "cell_type": "code",
      "metadata": {
        "colab": {
          "base_uri": "https://localhost:8080/"
        },
        "id": "3akAUSEhMr9f",
        "outputId": "222e5484-32d8-4c2f-e4ed-b07c13c2c231"
      },
      "source": [
        "# Câu 3: Sử dụng array arr_2D của câu 2 (sau khi đổi thứ tự cột), chuyển dòng 1 sang dòng 2 và ngược lại \n",
        "arr_2D = arr_2D[[1,0,2],:]\n",
        "# Xem lại danh sách các phần tử của arr_2D\n",
        "print(\"Ds Arr_2D sau chuyen dong:\")\n",
        "print(arr_2D)"
      ],
      "execution_count": null,
      "outputs": [
        {
          "output_type": "stream",
          "name": "stdout",
          "text": [
            "Ds Arr_2D sau chuyen dong:\n",
            "[[5 4 3]\n",
            " [2 1 0]\n",
            " [8 7 6]]\n"
          ]
        }
      ]
    },
    {
      "cell_type": "markdown",
      "metadata": {
        "id": "dmCGctV6Mr9f"
      },
      "source": [
        "<details>\n",
        "  <summary>Nhấn vào đây để xem kết quả!</summary>\n",
        "  <pre>[[5 4 3]\n",
        " [2 1 0]\n",
        " [8 7 6]]\n",
        "</pre>\n",
        "  \n",
        "</details>"
      ]
    },
    {
      "cell_type": "code",
      "metadata": {
        "colab": {
          "base_uri": "https://localhost:8080/"
        },
        "id": "rITy5ntWMr9g",
        "outputId": "06fc0c8e-82c7-4d4c-9797-c916c4e3f801"
      },
      "source": [
        "# Câu 4: Sử dụng array arr_2D của câu 3, Đảo ngược các dòng của array arr_2D \n",
        "arr_2D = arr_2D[[2,1,0],:]\n",
        "# Xem lại danh sách các phần tử của arr_2D\n",
        "print(\"Ds arr_2D:\")\n",
        "print(arr_2D)"
      ],
      "execution_count": null,
      "outputs": [
        {
          "output_type": "stream",
          "name": "stdout",
          "text": [
            "Ds arr_2D:\n",
            "[[8 7 6]\n",
            " [2 1 0]\n",
            " [5 4 3]]\n"
          ]
        }
      ]
    },
    {
      "cell_type": "markdown",
      "metadata": {
        "id": "OOH1OoFcMr9g"
      },
      "source": [
        "<details>\n",
        "  <summary>Nhấn vào đây để xem kết quả!</summary>\n",
        "  <pre>[[8 7 6]\n",
        " [2 1 0]\n",
        " [5 4 3]]\n",
        "</pre>\n",
        "  \n",
        "</details>"
      ]
    },
    {
      "cell_type": "code",
      "metadata": {
        "colab": {
          "base_uri": "https://localhost:8080/"
        },
        "id": "zx5ZyOLuMr9h",
        "outputId": "6e4b7db4-9c4d-4f14-9663-5f1d98eb021e"
      },
      "source": [
        "# Câu 5: Sử dụng array arr_2D của câu 4, Đảo ngược các cột của array arr_2D => Xem lại danh sách các phần tử của arr_2D\n",
        "arr_2D = arr_2D[:,[2,1,0]]\n",
        "print(\"Ds dao nguoc cac cot:\")\n",
        "print(arr_2D)"
      ],
      "execution_count": null,
      "outputs": [
        {
          "output_type": "stream",
          "name": "stdout",
          "text": [
            "Ds dao nguoc cac cot:\n",
            "[[6 7 8]\n",
            " [0 1 2]\n",
            " [3 4 5]]\n"
          ]
        }
      ]
    },
    {
      "cell_type": "markdown",
      "metadata": {
        "id": "lnnVbe0dMr9i"
      },
      "source": [
        "<details>\n",
        "  <summary>Nhấn vào đây để xem kết quả!</summary>\n",
        "  <pre>[[6 7 8]\n",
        " [0 1 2]\n",
        " [3 4 5]]\n",
        "</pre>\n",
        "  \n",
        "</details>"
      ]
    },
    {
      "cell_type": "code",
      "metadata": {
        "colab": {
          "base_uri": "https://localhost:8080/"
        },
        "id": "HbBC3F1qMr9i",
        "outputId": "ad7b3e1a-b449-4e87-d76f-317b4422d40d"
      },
      "source": [
        "# Câu 6: Cho arr_2D_null = np.array([[1, 2, 3], [np.NaN, 5, 6], [7, np.NaN, 9], [4, 5, 6]]),\n",
        "arr_2D_null = np.array([[1, 2, 3], [np.NaN, 5, 6], [7, np.NaN, 9], [4, 5, 6]])\n",
        "print(arr_2D_null)\n",
        "# Kiểm tra xem trong array có giá trị rỗng nào không? \n",
        "ck = np.isnan(arr_2D_null).any()\n",
        "if (ck == True):\n",
        "  print(\"Array co gia tri rong\")\n",
        "else:\n",
        "  print(\"Array ko co gia tri rong\")"
      ],
      "execution_count": null,
      "outputs": [
        {
          "output_type": "stream",
          "name": "stdout",
          "text": [
            "[[ 1.  2.  3.]\n",
            " [nan  5.  6.]\n",
            " [ 7. nan  9.]\n",
            " [ 4.  5.  6.]]\n",
            "Array co gia tri rong\n"
          ]
        }
      ]
    },
    {
      "cell_type": "markdown",
      "metadata": {
        "id": "Ns7JM6-jMr9i"
      },
      "source": [
        "<details>\n",
        "  <summary>Nhấn vào đây để xem kết quả!</summary>\n",
        "  <pre>[[ 1.  2.  3.]\n",
        " [nan  5.  6.]\n",
        " [ 7. nan  9.]\n",
        " [ 4.  5.  6.]]\n",
        "array có giá trị rỗng\n",
        "</pre>\n",
        "  \n",
        "</details>"
      ]
    },
    {
      "cell_type": "code",
      "metadata": {
        "colab": {
          "base_uri": "https://localhost:8080/"
        },
        "id": "o35jCJy0Mr9j",
        "outputId": "2624cee5-2df0-44d1-b714-f86935eb30af"
      },
      "source": [
        "# Câu 7: Sử dụng array arr_2D_null của câu 6, thay thế giá trị null bằng 0 => Xem lại danh sách các phần tử của arr_2D_null\n",
        "print(\"Array chua null\")\n",
        "print(arr_2D_null)\n",
        "arr_2D_null[np.isnan(arr_2D_null)]=0\n",
        "print(\"Array thay the 0:\")\n",
        "print(arr_2D_null)"
      ],
      "execution_count": null,
      "outputs": [
        {
          "output_type": "stream",
          "name": "stdout",
          "text": [
            "Array chua null\n",
            "[[1. 2. 3.]\n",
            " [0. 5. 6.]\n",
            " [7. 0. 9.]\n",
            " [4. 5. 6.]]\n",
            "Array thay the 0:\n",
            "[[1. 2. 3.]\n",
            " [0. 5. 6.]\n",
            " [7. 0. 9.]\n",
            " [4. 5. 6.]]\n"
          ]
        }
      ]
    },
    {
      "cell_type": "markdown",
      "metadata": {
        "id": "o6esmH3nMr9j"
      },
      "source": [
        "<details>\n",
        "  <summary>Nhấn vào đây để xem kết quả!</summary>\n",
        "  <pre>Before:\n",
        "[[ 1.  2.  3.]\n",
        " [nan  5.  6.]\n",
        " [ 7. nan  9.]\n",
        " [ 4.  5.  6.]]\n",
        "After:\n",
        "[[1. 2. 3.]\n",
        " [0. 5. 6.]\n",
        " [7. 0. 9.]\n",
        " [4. 5. 6.]]\n",
        "</pre>\n",
        "  \n",
        "</details>"
      ]
    }
  ]
}
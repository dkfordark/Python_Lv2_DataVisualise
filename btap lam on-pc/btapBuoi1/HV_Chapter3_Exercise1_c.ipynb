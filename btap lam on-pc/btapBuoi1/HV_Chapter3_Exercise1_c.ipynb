{
 "cells": [
  {
   "cell_type": "markdown",
   "metadata": {
    "colab_type": "text",
    "id": "dlvl6kiulffy"
   },
   "source": [
    "## Chapter 3 - Exercise 1c: Thực hiện các yêu cầu sau, và đối chiếu với kết quả cho trước"
   ]
  },
  {
   "cell_type": "code",
   "execution_count": 2,
   "metadata": {},
   "outputs": [],
   "source": [
    "import numpy as np"
   ]
  },
  {
   "cell_type": "code",
   "execution_count": 18,
   "metadata": {},
   "outputs": [
    {
     "name": "stdout",
     "output_type": "stream",
     "text": [
      "arr_zeros: [0 0 0 0 0 0 0 0 0 0]\n"
     ]
    },
    {
     "name": "stderr",
     "output_type": "stream",
     "text": [
      "C:\\Users\\Abc\\AppData\\Local\\Temp/ipykernel_4804/2743076336.py:2: DeprecationWarning: `np.int` is a deprecated alias for the builtin `int`. To silence this warning, use `int` by itself. Doing this will not modify any behavior and is safe. When replacing `np.int`, you may wish to use e.g. `np.int64` or `np.int32` to specify the precision. If you wish to review your current use, check the release note link for additional information.\n",
      "Deprecated in NumPy 1.20; for more details and guidance: https://numpy.org/devdocs/release/1.20.0-notes.html#deprecations\n",
      "  arr_zeros = np.zeros((10,),dtype=np.int)\n"
     ]
    }
   ],
   "source": [
    "# Câu 1: Tạo array arr_zeros có 10 phần tử 0, cập nhật phần tử ở vị trí thứ 5 là 1\n",
    "arr_zeros = np.zeros((10,),dtype=np.int)\n",
    "print (\"arr_zeros:\",arr_zeros)\n"
   ]
  },
  {
   "cell_type": "markdown",
   "metadata": {},
   "source": [
    "<details>\n",
    "  <summary>Nhấn vào đây để xem kết quả!</summary>\n",
    "  <pre>[0. 0. 0. 0. 0. 0. 0. 0. 0. 0.]\n",
    "[0. 0. 0. 0. 1. 0. 0. 0. 0. 0.]\n",
    "</pre>\n",
    "  \n",
    "</details>"
   ]
  },
  {
   "cell_type": "code",
   "execution_count": 19,
   "metadata": {},
   "outputs": [
    {
     "name": "stdout",
     "output_type": "stream",
     "text": [
      "arr_h: [10 11 12 13 14 15 16 17 18 19 20 21 22 23]\n"
     ]
    }
   ],
   "source": [
    "# Câu 2: Tạo và in array arr_h có giá trị từ 10 đến 24 \n",
    "arr_h = np.arange(10,24)\n",
    "print(\"arr_h:\",arr_h)\n",
    "\n",
    "# In danh sách các phần tử theo tứ tự đảo ngược của arr_h vừa tạo\n"
   ]
  },
  {
   "cell_type": "markdown",
   "metadata": {},
   "source": [
    "<details>\n",
    "  <summary>Nhấn vào đây để xem kết quả!</summary>\n",
    "  <pre>[10 11 12 13 14 15 16 17 18 19 20 21 22 23 24]\n",
    "[24 23 22 21 20 19 18 17 16 15 14 13 12 11 10]\n",
    "</pre>\n",
    "  \n",
    "</details>"
   ]
  },
  {
   "cell_type": "code",
   "execution_count": 20,
   "metadata": {},
   "outputs": [
    {
     "name": "stdout",
     "output_type": "stream",
     "text": [
      "Arr_l: [1 2 8 2 1 3 5]\n"
     ]
    }
   ],
   "source": [
    "# Câu 3: Cho array arr_k = np.array([1, 2, 0, 8, 2, 0, 1, 3, 0, 5, 0]) \n",
    "arr_k = np.array([1, 2, 0, 8, 2, 0, 1, 3, 0, 5, 0]) \n",
    "\n",
    "# Tạo array arr_l từ arr_k với các phần tử khác 0\n",
    "arr_l = arr_k[arr_k!=0]\n",
    "print(\"Arr_l:\",arr_l)"
   ]
  },
  {
   "cell_type": "markdown",
   "metadata": {},
   "source": [
    "<details>\n",
    "  <summary>Nhấn vào đây để xem kết quả!</summary>\n",
    "  <pre>[1 2 0 8 2 0 1 3 0 5 0]\n",
    "[1 2 8 2 1 3 5]\n",
    "</pre>\n",
    "  \n",
    "</details>"
   ]
  },
  {
   "cell_type": "code",
   "execution_count": 21,
   "metadata": {},
   "outputs": [
    {
     "name": "stdout",
     "output_type": "stream",
     "text": [
      "new arr_l: [ 1  2  8  2  1  3  5 10 20]\n"
     ]
    }
   ],
   "source": [
    "# Câu 4: Từ array arr_l của câu 3, thêm 2 phần tử có giá trị là 10 và 20 vào cuối array\n",
    "arr_l = np.append(arr_l,[10,20])\n",
    "print(\"new arr_l:\",arr_l)"
   ]
  },
  {
   "cell_type": "markdown",
   "metadata": {},
   "source": [
    "<details>\n",
    "  <summary>Nhấn vào đây để xem kết quả!</summary>\n",
    "  <pre>[ 1  2  8  2  1  3  5 10 20]\n",
    "</pre>\n",
    "  \n",
    "</details>"
   ]
  },
  {
   "cell_type": "code",
   "execution_count": 22,
   "metadata": {},
   "outputs": [
    {
     "name": "stdout",
     "output_type": "stream",
     "text": [
      "[  1   2   8   2   1 100   3   5  10  20]\n"
     ]
    }
   ],
   "source": [
    "# Câu 5: Từ array của câu 4, thêm phần tử có giá trị 100 vào vị trí có index = 5\n",
    "arr_l = np.insert(arr_l,5,100)\n",
    "print(arr_l)"
   ]
  },
  {
   "cell_type": "markdown",
   "metadata": {},
   "source": [
    "<details>\n",
    "  <summary>Nhấn vào đây để xem kết quả!</summary>\n",
    "  <pre>[  1   2   8   2   1 100   3   5  10  20]\n",
    "</pre>\n",
    "  \n",
    "</details>"
   ]
  },
  {
   "cell_type": "code",
   "execution_count": 23,
   "metadata": {},
   "outputs": [
    {
     "name": "stdout",
     "output_type": "stream",
     "text": [
      "[  8   1 100   3   5  10  20]\n"
     ]
    }
   ],
   "source": [
    "# Câu 6: Từ array của câu 5, xóa các phần tử tại vị trí có index = 0, 1, 2\n",
    "lstIndex = [0,1,3]\n",
    "arr_l = np.delete(arr_l,lstIndex)\n",
    "print(arr_l)"
   ]
  },
  {
   "cell_type": "markdown",
   "metadata": {},
   "source": [
    "<details>\n",
    "  <summary>Nhấn vào đây để xem kết quả!</summary>\n",
    "  <pre>[  2   1 100   3   5  10  20]\n",
    "</pre>\n",
    "  \n",
    "</details>"
   ]
  }
 ],
 "metadata": {
  "colab": {
   "name": "Chapter3_Exercise1.ipynb",
   "provenance": []
  },
  "kernelspec": {
   "display_name": "Python 3 (ipykernel)",
   "language": "python",
   "name": "python3"
  },
  "language_info": {
   "codemirror_mode": {
    "name": "ipython",
    "version": 3
   },
   "file_extension": ".py",
   "mimetype": "text/x-python",
   "name": "python",
   "nbconvert_exporter": "python",
   "pygments_lexer": "ipython3",
   "version": "3.9.6"
  }
 },
 "nbformat": 4,
 "nbformat_minor": 1
}

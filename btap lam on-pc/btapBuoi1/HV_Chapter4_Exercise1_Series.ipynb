{
  "nbformat": 4,
  "nbformat_minor": 0,
  "metadata": {
    "kernelspec": {
      "display_name": "Python 3",
      "language": "python",
      "name": "python3"
    },
    "language_info": {
      "codemirror_mode": {
        "name": "ipython",
        "version": 3
      },
      "file_extension": ".py",
      "mimetype": "text/x-python",
      "name": "python",
      "nbconvert_exporter": "python",
      "pygments_lexer": "ipython3",
      "version": "3.7.4"
    },
    "colab": {
      "name": "HV_Chapter4_Exercise1_Series.ipynb",
      "provenance": [],
      "collapsed_sections": []
    }
  },
  "cells": [
    {
      "cell_type": "markdown",
      "metadata": {
        "id": "C178D9FbKYjE"
      },
      "source": [
        "## Chapter 4 - Exercise 1: Thực hiện những yêu cầu liên quan đến series, và đối chiếu với kết quả cho trước"
      ]
    },
    {
      "cell_type": "markdown",
      "metadata": {
        "id": "M1vww1m3KYjO"
      },
      "source": [
        "### Part 1: Thực hiện các phép toán trên series"
      ]
    },
    {
      "cell_type": "code",
      "metadata": {
        "id": "kv5qBGofKYjQ"
      },
      "source": [
        "import numpy as np\n",
        "import pandas as pd"
      ],
      "execution_count": 1,
      "outputs": []
    },
    {
      "cell_type": "code",
      "metadata": {
        "id": "TAn2cESTKYjS",
        "colab": {
          "base_uri": "https://localhost:8080/"
        },
        "outputId": "556bcefe-5fa9-47f6-8c4d-447823d5d051"
      },
      "source": [
        "# Câu 1a: Cho arr_1 là mảng số nguyên chẵn [2, 4, 6, 8, 10], arr_2 là mảng số nguyên lẻ [1, 3, 5, 7, 11]\n",
        "# Tạo biến kiểu Serries ser1 từ arr_1, ser2 từ arr_2\n",
        "arr_1 = np.array([2, 4, 6, 8, 10])\n",
        "arr_2 = np.array([1, 3, 5, 7, 11])\n",
        "ser1 = pd.Series(arr_1,dtype='int32')\n",
        "ser2 = pd.Series(arr_2,dtype='int32')\n",
        "# In danh sách các phần tử của ser1 và ser2\n",
        "print(ser1)\n",
        "print(ser2)\n"
      ],
      "execution_count": 2,
      "outputs": [
        {
          "output_type": "stream",
          "name": "stdout",
          "text": [
            "0     2\n",
            "1     4\n",
            "2     6\n",
            "3     8\n",
            "4    10\n",
            "dtype: int32\n",
            "0     1\n",
            "1     3\n",
            "2     5\n",
            "3     7\n",
            "4    11\n",
            "dtype: int32\n"
          ]
        }
      ]
    },
    {
      "cell_type": "markdown",
      "metadata": {
        "id": "J7qjbxm2KYjT"
      },
      "source": [
        "<details>\n",
        "  <summary>Nhấn vào đây để xem kết quả!</summary>\n",
        "  <pre>0     2\n",
        "1     4\n",
        "2     6\n",
        "3     8\n",
        "4    10\n",
        "dtype: int32\n",
        "0     1\n",
        "1     3\n",
        "2     5\n",
        "3     7\n",
        "4    11\n",
        "dtype: int32\n",
        "</pre>\n",
        "  \n",
        "</details>"
      ]
    },
    {
      "cell_type": "code",
      "metadata": {
        "id": "xZSisFC7KZSP"
      },
      "source": [
        ""
      ],
      "execution_count": 2,
      "outputs": []
    },
    {
      "cell_type": "code",
      "metadata": {
        "id": "OrUWyx2YKYjT",
        "colab": {
          "base_uri": "https://localhost:8080/"
        },
        "outputId": "301098e3-6c11-4f77-cb80-8520dcf631c9"
      },
      "source": [
        "# Câu 1b: Thực hiện phép toán và thể hiện kết quả của:  ser1 + ser2 \n",
        "print(ser1 + ser2)"
      ],
      "execution_count": 3,
      "outputs": [
        {
          "output_type": "stream",
          "name": "stdout",
          "text": [
            "0     3\n",
            "1     7\n",
            "2    11\n",
            "3    15\n",
            "4    21\n",
            "dtype: int32\n"
          ]
        }
      ]
    },
    {
      "cell_type": "markdown",
      "metadata": {
        "id": "JhtrXwztKYjV"
      },
      "source": [
        "<details>\n",
        "  <summary>Nhấn vào đây để xem kết quả!</summary>\n",
        "  <pre>0     3\n",
        "1     7\n",
        "2    11\n",
        "3    15\n",
        "4    21\n",
        "dtype: int32</pre>\n",
        "  \n",
        "</details>"
      ]
    },
    {
      "cell_type": "code",
      "metadata": {
        "id": "XAsNtQOJKYjW"
      },
      "source": [
        ""
      ],
      "execution_count": 3,
      "outputs": []
    },
    {
      "cell_type": "markdown",
      "metadata": {
        "id": "k7KN83RsKYjX"
      },
      "source": [
        "<details>\n",
        "  <summary>Nhấn vào đây để xem kết quả!</summary>\n",
        "  <pre>0    1\n",
        "1    1\n",
        "2    1\n",
        "3    1\n",
        "4   -1\n",
        "dtype: int32</pre>\n",
        "  \n",
        "</details>"
      ]
    },
    {
      "cell_type": "code",
      "metadata": {
        "id": "VLmtC13SKYjX",
        "colab": {
          "base_uri": "https://localhost:8080/"
        },
        "outputId": "35dbc362-0ffc-42b0-a167-fa84c0bc29a9"
      },
      "source": [
        "# Câu 1d: Thực hiện phép toán và thể hiện kết quả của:  ser1 * ser2\n",
        "print(ser1*ser2)"
      ],
      "execution_count": 4,
      "outputs": [
        {
          "output_type": "stream",
          "name": "stdout",
          "text": [
            "0      2\n",
            "1     12\n",
            "2     30\n",
            "3     56\n",
            "4    110\n",
            "dtype: int32\n"
          ]
        }
      ]
    },
    {
      "cell_type": "markdown",
      "metadata": {
        "id": "TyQ65D3WKYjY"
      },
      "source": [
        "<details>\n",
        "  <summary>Nhấn vào đây để xem kết quả!</summary>\n",
        "  <pre>0      2\n",
        "1     12\n",
        "2     30\n",
        "3     56\n",
        "4    110\n",
        "dtype: int32</pre>\n",
        "  \n",
        "</details>"
      ]
    },
    {
      "cell_type": "code",
      "metadata": {
        "id": "6AAy7FYXKYjZ",
        "colab": {
          "base_uri": "https://localhost:8080/"
        },
        "outputId": "c54e2f7a-dbad-4092-8d2a-8ffbd47daca1"
      },
      "source": [
        "# Câu 1e: Thực hiện phép toán và thể hiện kết quả của:  ser1 / ser2\n",
        "print (ser1/ser2)"
      ],
      "execution_count": 5,
      "outputs": [
        {
          "output_type": "stream",
          "name": "stdout",
          "text": [
            "0    2.000000\n",
            "1    1.333333\n",
            "2    1.200000\n",
            "3    1.142857\n",
            "4    0.909091\n",
            "dtype: float64\n"
          ]
        }
      ]
    },
    {
      "cell_type": "markdown",
      "metadata": {
        "id": "UjIiJo5jKYja"
      },
      "source": [
        "<details>\n",
        "  <summary>Nhấn vào đây để xem kết quả!</summary>\n",
        "  <pre>0    2.000000\n",
        "1    1.333333\n",
        "2    1.200000\n",
        "3    1.142857\n",
        "4    0.909091\n",
        "dtype: float64</pre>\n",
        "  \n",
        "</details>"
      ]
    },
    {
      "cell_type": "code",
      "metadata": {
        "id": "adNM_BOdKYjb",
        "colab": {
          "base_uri": "https://localhost:8080/"
        },
        "outputId": "e9e3194c-04fc-4d12-b2cf-2eb6589314bc"
      },
      "source": [
        "# Câu 2a: Kiểm tra xem các phần tử của ser1 có > các phần tử của ser2 không?\n",
        "print(ser1>ser2)"
      ],
      "execution_count": 6,
      "outputs": [
        {
          "output_type": "stream",
          "name": "stdout",
          "text": [
            "0     True\n",
            "1     True\n",
            "2     True\n",
            "3     True\n",
            "4    False\n",
            "dtype: bool\n"
          ]
        }
      ]
    },
    {
      "cell_type": "markdown",
      "metadata": {
        "id": "xqkSKu8zKYjc"
      },
      "source": [
        "<details>\n",
        "  <summary>Nhấn vào đây để xem kết quả!</summary>\n",
        "  <pre>0     True\n",
        "1     True\n",
        "2     True\n",
        "3     True\n",
        "4    False\n",
        "dtype: bool</pre>\n",
        "  \n",
        "</details>"
      ]
    },
    {
      "cell_type": "code",
      "metadata": {
        "id": "Blkthd3MKYjc",
        "colab": {
          "base_uri": "https://localhost:8080/"
        },
        "outputId": "d096c6e9-0f33-4e2b-e301-e2d507e2fe0c"
      },
      "source": [
        "# Câu 2b: Kiểm tra xem các phần tử của ser1 có < các phần tử của ser2 không?\n",
        "print(ser1<ser2)"
      ],
      "execution_count": 7,
      "outputs": [
        {
          "output_type": "stream",
          "name": "stdout",
          "text": [
            "0    False\n",
            "1    False\n",
            "2    False\n",
            "3    False\n",
            "4     True\n",
            "dtype: bool\n"
          ]
        }
      ]
    },
    {
      "cell_type": "markdown",
      "metadata": {
        "id": "okrDDDRiKYjd"
      },
      "source": [
        "<details>\n",
        "  <summary>Nhấn vào đây để xem kết quả!</summary>\n",
        "  <pre>0    False\n",
        "1    False\n",
        "2    False\n",
        "3    False\n",
        "4     True\n",
        "dtype: bool</pre>\n",
        "  \n",
        "</details>"
      ]
    },
    {
      "cell_type": "code",
      "metadata": {
        "scrolled": true,
        "id": "Tfui7NtoKYje",
        "colab": {
          "base_uri": "https://localhost:8080/"
        },
        "outputId": "e50a7c21-dd32-4eac-b4b4-493036486401"
      },
      "source": [
        "# Câu 2c: Kiểm tra xem các phần tử của ser1 có = các phần tử của ser2 không?\n",
        "print(ser1==ser2)"
      ],
      "execution_count": 8,
      "outputs": [
        {
          "output_type": "stream",
          "name": "stdout",
          "text": [
            "0    False\n",
            "1    False\n",
            "2    False\n",
            "3    False\n",
            "4    False\n",
            "dtype: bool\n"
          ]
        }
      ]
    },
    {
      "cell_type": "markdown",
      "metadata": {
        "id": "4wAwPx8RKYje"
      },
      "source": [
        "<details>\n",
        "  <summary>Nhấn vào đây để xem kết quả!</summary>\n",
        "  <pre>0    False\n",
        "1    False\n",
        "2    False\n",
        "3    False\n",
        "4    False\n",
        "dtype: bool</pre>\n",
        "  \n",
        "</details>"
      ]
    },
    {
      "cell_type": "code",
      "metadata": {
        "id": "XjoqQEBzKYje",
        "colab": {
          "base_uri": "https://localhost:8080/"
        },
        "outputId": "7f67ad30-15c7-464a-9557-6bf0e14a2554"
      },
      "source": [
        "# Câu 3a: Thêm 2 phần tử [6, 12] vào ser2 => su dung append\n",
        "\n",
        "# In lại danh sách các phần tử của ser2.\n",
        "ser2 = ser2.append(pd.Series([6,12]))\n",
        "print(ser2)"
      ],
      "execution_count": 9,
      "outputs": [
        {
          "output_type": "stream",
          "name": "stdout",
          "text": [
            "0     1\n",
            "1     3\n",
            "2     5\n",
            "3     7\n",
            "4    11\n",
            "0     6\n",
            "1    12\n",
            "dtype: int64\n"
          ]
        }
      ]
    },
    {
      "cell_type": "markdown",
      "metadata": {
        "id": "MWUeR_8WKYjf"
      },
      "source": [
        "<details>\n",
        "  <summary>Nhấn vào đây để xem kết quả!</summary>\n",
        "  <pre>0     1\n",
        "1     3\n",
        "2     5\n",
        "3     7\n",
        "4    11\n",
        "0     6\n",
        "1    12\n",
        "dtype: int64</pre>\n",
        "  \n",
        "</details>"
      ]
    },
    {
      "cell_type": "code",
      "metadata": {
        "id": "VVYKyzEgKYjf",
        "colab": {
          "base_uri": "https://localhost:8080/"
        },
        "outputId": "c3ac25b6-eede-4c73-c251-60e59fe5b11c"
      },
      "source": [
        "# Câu 3b: Tạo series ser3 chỉ chứa các phần tử có trong ser1 mà không có trong ser2. => goi y dung: ham isin\n",
        "#         In danh sách các phần tử của ser3\n",
        "print(\"Ser1:\")\n",
        "print(ser1)\n",
        "print(\"Ser2:\")\n",
        "print(ser2)\n",
        "print(\"Ser3:\")\n",
        "# ~ser1.isin(ser2)\n",
        "ser3 = ser1[~ser1.isin(ser2)]\n",
        "print(ser3)"
      ],
      "execution_count": 10,
      "outputs": [
        {
          "output_type": "stream",
          "name": "stdout",
          "text": [
            "Ser1:\n",
            "0     2\n",
            "1     4\n",
            "2     6\n",
            "3     8\n",
            "4    10\n",
            "dtype: int32\n",
            "Ser2:\n",
            "0     1\n",
            "1     3\n",
            "2     5\n",
            "3     7\n",
            "4    11\n",
            "0     6\n",
            "1    12\n",
            "dtype: int64\n",
            "Ser3:\n",
            "0     2\n",
            "1     4\n",
            "3     8\n",
            "4    10\n",
            "dtype: int32\n"
          ]
        }
      ]
    },
    {
      "cell_type": "markdown",
      "metadata": {
        "id": "ApHEGg6wKYjg"
      },
      "source": [
        "<details>\n",
        "  <summary>Nhấn vào đây để xem kết quả!</summary>\n",
        "  <pre>0     2\n",
        "1     4\n",
        "3     8\n",
        "4    10\n",
        "dtype: int32\n",
        "</pre>\n",
        "  \n",
        "</details>"
      ]
    },
    {
      "cell_type": "code",
      "metadata": {
        "id": "woHr2ytEKYjg",
        "colab": {
          "base_uri": "https://localhost:8080/"
        },
        "outputId": "a3ef9d08-f7b6-43ac-f25b-3e3e38577d83"
      },
      "source": [
        "# Câu 3c: Tạo series ser4 chỉ chứa các phần tử có trong ser2 mà không có trong ser1.  => goi y dung: ham isin\n",
        "#         In danh sách các phần tử của ser4 \n",
        "print(\"Ser1:\")\n",
        "print(ser1)\n",
        "print(\"Ser2:\")\n",
        "print(ser2)\n",
        "print(\"Ser4:\")\n",
        "ser4 = ser2[~ser2.isin(ser1)]\n",
        "print(ser4)\n"
      ],
      "execution_count": 11,
      "outputs": [
        {
          "output_type": "stream",
          "name": "stdout",
          "text": [
            "Ser1:\n",
            "0     2\n",
            "1     4\n",
            "2     6\n",
            "3     8\n",
            "4    10\n",
            "dtype: int32\n",
            "Ser2:\n",
            "0     1\n",
            "1     3\n",
            "2     5\n",
            "3     7\n",
            "4    11\n",
            "0     6\n",
            "1    12\n",
            "dtype: int64\n",
            "Ser4:\n",
            "0     1\n",
            "1     3\n",
            "2     5\n",
            "3     7\n",
            "4    11\n",
            "1    12\n",
            "dtype: int64\n"
          ]
        }
      ]
    },
    {
      "cell_type": "markdown",
      "metadata": {
        "id": "xhVe1yXzKYjg"
      },
      "source": [
        "<details>\n",
        "  <summary>Nhấn vào đây để xem kết quả!</summary>\n",
        "  <pre>0     1\n",
        "1     3\n",
        "2     5\n",
        "3     7\n",
        "4    11\n",
        "1    12\n",
        "dtype: int64\n",
        "</pre>\n",
        "  \n",
        "</details>"
      ]
    },
    {
      "cell_type": "code",
      "metadata": {
        "id": "NRbELSybKYjh",
        "colab": {
          "base_uri": "https://localhost:8080/"
        },
        "outputId": "89fefded-684b-4379-de68-e8216d8c7c78"
      },
      "source": [
        "# Câu 4: Tạo series ser5 chứa các phần tử chỉ có trong ser1 và chỉ có trong ser2\n",
        "#        In danh sách các phần tử của ser5\n",
        "ser5 = ser3.append(pd.Series(ser4))\n",
        "print('ser5:')\n",
        "print(ser5)\n"
      ],
      "execution_count": 12,
      "outputs": [
        {
          "output_type": "stream",
          "name": "stdout",
          "text": [
            "ser5:\n",
            "0     2\n",
            "1     4\n",
            "3     8\n",
            "4    10\n",
            "0     1\n",
            "1     3\n",
            "2     5\n",
            "3     7\n",
            "4    11\n",
            "1    12\n",
            "dtype: int64\n"
          ]
        }
      ]
    },
    {
      "cell_type": "markdown",
      "metadata": {
        "id": "ROuPUEH7KYji"
      },
      "source": [
        "<details>\n",
        "  <summary>Nhấn vào đây để xem kết quả!</summary>\n",
        "  <pre>0     2\n",
        "1     4\n",
        "3     8\n",
        "4    10\n",
        "0     1\n",
        "1     3\n",
        "2     5\n",
        "3     7\n",
        "4    11\n",
        "1    12\n",
        "dtype: int64\n",
        "</pre>\n",
        "  \n",
        "</details>"
      ]
    },
    {
      "cell_type": "markdown",
      "metadata": {
        "id": "YvPpCVy5KYji"
      },
      "source": [
        "### Part 2: Truy xuất các phần tử, và thống kê thông tin trên series"
      ]
    },
    {
      "cell_type": "code",
      "metadata": {
        "id": "_GVQeYCJKYji",
        "colab": {
          "base_uri": "https://localhost:8080/"
        },
        "outputId": "4db4e597-3ae3-4f51-c06d-a93f5571575c"
      },
      "source": [
        "# Câu 1a: Tạo series ser6 có 35 phần tử số nguyên ngẫu nhiên có giá trị trong khoảng từ 1 đến 9. \n",
        "np.random.seed(1)\n",
        "ser6 = pd.Series(np.random.randint(1,10,35),dtype='int32')\n",
        "# print(ser6)\n",
        "# Cho biết kích thước (shape) của ser6\n",
        "print('kich thuoc shape cua ser6:',ser6.shape)\n",
        "\n",
        "# Xem 5 dòng dữ liệu đầu tiên (head) và 5 dòng dữ liệu cuối cùng (tail) có trong ser6\n",
        "print(ser6.head())\n",
        "print(ser6.tail())"
      ],
      "execution_count": 13,
      "outputs": [
        {
          "output_type": "stream",
          "name": "stdout",
          "text": [
            "kich thuoc shape cua ser6: (35,)\n",
            "0    6\n",
            "1    9\n",
            "2    6\n",
            "3    1\n",
            "4    1\n",
            "dtype: int32\n",
            "30    8\n",
            "31    4\n",
            "32    7\n",
            "33    6\n",
            "34    2\n",
            "dtype: int32\n"
          ]
        }
      ]
    },
    {
      "cell_type": "markdown",
      "metadata": {
        "id": "h5kHlStvKYjj"
      },
      "source": [
        "<details>\n",
        "  <summary>Nhấn vào đây để xem kết quả!</summary>\n",
        "  <pre>(35,)\n",
        "0    6\n",
        "1    9\n",
        "2    6\n",
        "3    1\n",
        "4    1\n",
        "dtype: int32\n",
        "30    8\n",
        "31    4\n",
        "32    7\n",
        "33    6\n",
        "34    2\n",
        "dtype: int32\n",
        "</pre>\n",
        "  \n",
        "</details>"
      ]
    },
    {
      "cell_type": "code",
      "metadata": {
        "id": "9ssFEDmzKYjj",
        "colab": {
          "base_uri": "https://localhost:8080/"
        },
        "outputId": "0548ed45-c529-4234-8fa5-04aa456b6f00"
      },
      "source": [
        "# Câu 1b: In danh sách các phần tử của ser6 theo dạng array\n",
        "print(np.array(ser6))"
      ],
      "execution_count": 14,
      "outputs": [
        {
          "output_type": "stream",
          "name": "stdout",
          "text": [
            "[6 9 6 1 1 2 8 7 3 5 6 3 5 3 5 8 8 2 8 1 7 8 7 2 1 2 9 9 4 9 8 4 7 6 2]\n"
          ]
        }
      ]
    },
    {
      "cell_type": "markdown",
      "metadata": {
        "id": "bSqURLDsKYjj"
      },
      "source": [
        "<details>\n",
        "  <summary>Nhấn vào đây để xem kết quả!</summary>\n",
        "  <pre>[6 9 6 1 1 2 8 7 3 5 6 3 5 3 5 8 8 2 8 1 7 8 7 2 1 2 9 9 4 9 8 4 7 6 2]\n",
        "</pre>\n",
        "  \n",
        "</details>"
      ]
    },
    {
      "cell_type": "code",
      "metadata": {
        "id": "XsNxie41KYjj",
        "colab": {
          "base_uri": "https://localhost:8080/"
        },
        "outputId": "8806a134-b8c9-43a4-805a-e4a79100fd7e"
      },
      "source": [
        "# Câu 1c: Cho biết thông tin thống kê chung (describe()) của ser6\n",
        "print(ser6.describe())"
      ],
      "execution_count": 15,
      "outputs": [
        {
          "output_type": "stream",
          "name": "stdout",
          "text": [
            "count    35.000000\n",
            "mean      5.200000\n",
            "std       2.763204\n",
            "min       1.000000\n",
            "25%       2.500000\n",
            "50%       6.000000\n",
            "75%       8.000000\n",
            "max       9.000000\n",
            "dtype: float64\n"
          ]
        }
      ]
    },
    {
      "cell_type": "markdown",
      "metadata": {
        "id": "SDq3Js3KKYjk"
      },
      "source": [
        "<details>\n",
        "  <summary>Nhấn vào đây để xem kết quả!</summary>\n",
        "  <pre>count    35.000000\n",
        "mean      5.200000\n",
        "std       2.763204\n",
        "min       1.000000\n",
        "25%       2.500000\n",
        "50%       6.000000\n",
        "75%       8.000000\n",
        "max       9.000000\n",
        "dtype: float64</pre>\n",
        "  \n",
        "</details>"
      ]
    },
    {
      "cell_type": "code",
      "metadata": {
        "id": "zIgwG_QOKYjl",
        "colab": {
          "base_uri": "https://localhost:8080/"
        },
        "outputId": "a5b81a63-b6ec-417b-e8af-dd797536995e"
      },
      "source": [
        "# Câu 1d: Cho biết tổng của các phần tử có trong ser6\n",
        "print(ser6.sum())"
      ],
      "execution_count": 16,
      "outputs": [
        {
          "output_type": "stream",
          "name": "stdout",
          "text": [
            "182\n"
          ]
        }
      ]
    },
    {
      "cell_type": "markdown",
      "metadata": {
        "id": "bbcmkzO4KYjl"
      },
      "source": [
        "<details>\n",
        "  <summary>Nhấn vào đây để xem kết quả!</summary>\n",
        "  <pre>182</pre>\n",
        "  \n",
        "</details>"
      ]
    },
    {
      "cell_type": "code",
      "metadata": {
        "id": "P87AEQIpKYjl",
        "colab": {
          "base_uri": "https://localhost:8080/"
        },
        "outputId": "203a5d46-ad18-4b14-e299-7ab0df19ffcb"
      },
      "source": [
        "# Câu 1e: Cho biết phần tử có tần suất xuất hiện nhiều nhất trong ser6 => su dung mode\n",
        "print(ser6.mode())"
      ],
      "execution_count": 17,
      "outputs": [
        {
          "output_type": "stream",
          "name": "stdout",
          "text": [
            "0    8\n",
            "dtype: int32\n"
          ]
        }
      ]
    },
    {
      "cell_type": "markdown",
      "metadata": {
        "id": "KHyGq3LrKYjm"
      },
      "source": [
        "<details>\n",
        "  <summary>Nhấn vào đây để xem kết quả!</summary>\n",
        "  <pre>0    8\n",
        "dtype: int32</pre>\n",
        "  \n",
        "</details>"
      ]
    },
    {
      "cell_type": "code",
      "metadata": {
        "id": "nxIFnX1kKYjm",
        "colab": {
          "base_uri": "https://localhost:8080/"
        },
        "outputId": "7817babb-3e8e-490e-f41b-806eee98fa80"
      },
      "source": [
        "# Câu 2:  Liệt kê các dòng trong ser6 mà giá trị chia hết cho 2 và cho 3\n",
        "print(ser6[(ser6%2==0) & (ser6%3==0)])"
      ],
      "execution_count": 18,
      "outputs": [
        {
          "output_type": "stream",
          "name": "stdout",
          "text": [
            "0     6\n",
            "2     6\n",
            "10    6\n",
            "33    6\n",
            "dtype: int32\n"
          ]
        }
      ]
    },
    {
      "cell_type": "markdown",
      "metadata": {
        "id": "FBtjg9PMKYjn"
      },
      "source": [
        "<details>\n",
        "  <summary>Nhấn vào đây để xem kết quả!</summary>\n",
        "  <pre>0     6\n",
        "2     6\n",
        "10    6\n",
        "33    6\n",
        "dtype: int32</pre>\n",
        "  \n",
        "</details>"
      ]
    },
    {
      "cell_type": "code",
      "metadata": {
        "id": "U-DHQYhAKYjo",
        "colab": {
          "base_uri": "https://localhost:8080/"
        },
        "outputId": "0be6b927-236b-4bc2-ab3f-9c2a6189eeb9"
      },
      "source": [
        "# Câu 3: In các phần tử ở vị trí 0, 5, 10, 15 trong ser6\n",
        "# print(ser6.index[[0,5,10,15]].values)\n",
        "print(pd.Series(ser6,index=[0,5,10,15]))"
      ],
      "execution_count": 19,
      "outputs": [
        {
          "output_type": "stream",
          "name": "stdout",
          "text": [
            "0     6\n",
            "5     2\n",
            "10    6\n",
            "15    8\n",
            "dtype: int32\n"
          ]
        }
      ]
    },
    {
      "cell_type": "markdown",
      "metadata": {
        "id": "ZCk9t6BJKYjo"
      },
      "source": [
        "<details>\n",
        "  <summary>Nhấn vào đây để xem kết quả!</summary>\n",
        "  <pre>0     6\n",
        "5     2\n",
        "10    6\n",
        "15    8\n",
        "dtype: int32</pre>\n",
        "  \n",
        "</details>"
      ]
    },
    {
      "cell_type": "code",
      "metadata": {
        "id": "tWJznAbuKYjo",
        "colab": {
          "base_uri": "https://localhost:8080/"
        },
        "outputId": "e3763faa-b0a8-4899-c92d-962ff0e8402e"
      },
      "source": [
        "# Câu 4: In ra các giá trị unique (array) trong ser6\n",
        "pd.unique(pd.Series(ser6))"
      ],
      "execution_count": 20,
      "outputs": [
        {
          "output_type": "execute_result",
          "data": {
            "text/plain": [
              "array([6, 9, 1, 2, 8, 7, 3, 5, 4], dtype=int32)"
            ]
          },
          "metadata": {},
          "execution_count": 20
        }
      ]
    },
    {
      "cell_type": "markdown",
      "metadata": {
        "id": "j5zEkh5SKYjo"
      },
      "source": [
        "<details>\n",
        "  <summary>Nhấn vào đây để xem kết quả!</summary>\n",
        "  <pre>array([6, 9, 1, 2, 8, 7, 3, 5, 4], dtype=int64)</pre>\n",
        "  \n",
        "</details>"
      ]
    },
    {
      "cell_type": "code",
      "metadata": {
        "id": "L-PUENmfKYjp",
        "colab": {
          "base_uri": "https://localhost:8080/"
        },
        "outputId": "bf97ec52-8c24-4187-8838-b5dda23c21fe"
      },
      "source": [
        "# Câu 5: Tạo series ser7 với mỗi phần tử có giá trị = lập phương của phần tử trong ser6. \n",
        "ser7 = ser6.map(lambda x: x ** 3.0)\n",
        "\n",
        "# Xem 5 dòng dữ liệu đầu tiên (head) của ser7\n",
        "print(ser7.head())"
      ],
      "execution_count": 21,
      "outputs": [
        {
          "output_type": "stream",
          "name": "stdout",
          "text": [
            "0    216.0\n",
            "1    729.0\n",
            "2    216.0\n",
            "3      1.0\n",
            "4      1.0\n",
            "dtype: float64\n"
          ]
        }
      ]
    },
    {
      "cell_type": "markdown",
      "metadata": {
        "id": "VOTT7u1iKYjp"
      },
      "source": [
        "<details>\n",
        "  <summary>Nhấn vào đây để xem kết quả!</summary>\n",
        "  <pre>0    216.0\n",
        "1    729.0\n",
        "2    216.0\n",
        "3      1.0\n",
        "4      1.0\n",
        "dtype: float64\n",
        "</pre>\n",
        "  \n",
        "</details>"
      ]
    },
    {
      "cell_type": "markdown",
      "metadata": {
        "id": "BrJiw9cDKYjp"
      },
      "source": [
        "### Part 3: Tạo series từ list, chuỗi và biểu thức điều kiện "
      ]
    },
    {
      "cell_type": "code",
      "metadata": {
        "id": "2YeP45NRKYjp"
      },
      "source": [
        "# Câu 1: Cho list sau:\n",
        "lst = [\"abc\", \"defg\", \"htlmj\", \"dfg\", \"ljsac\"]"
      ],
      "execution_count": 22,
      "outputs": []
    },
    {
      "cell_type": "code",
      "metadata": {
        "id": "cySDnjT-KYjq",
        "colab": {
          "base_uri": "https://localhost:8080/"
        },
        "outputId": "070e31a4-8c02-4240-d9ba-5f88f869990d"
      },
      "source": [
        "# Câu 1a: Tạo series ser_chuoi từ lst \n",
        "ser_chuoi = pd.Series(lst)\n",
        "print(ser_chuoi)"
      ],
      "execution_count": 23,
      "outputs": [
        {
          "output_type": "stream",
          "name": "stdout",
          "text": [
            "0      abc\n",
            "1     defg\n",
            "2    htlmj\n",
            "3      dfg\n",
            "4    ljsac\n",
            "dtype: object\n"
          ]
        }
      ]
    },
    {
      "cell_type": "markdown",
      "metadata": {
        "id": "JbGVoQOkKYjr"
      },
      "source": [
        "<details>\n",
        "  <summary>Nhấn vào đây để xem kết quả!</summary>\n",
        "  <pre>0      abc\n",
        "1     defg\n",
        "2    htlmj\n",
        "3      dfg\n",
        "4    ljsac\n",
        "dtype: object\n",
        "</pre>\n",
        "  \n",
        "</details>"
      ]
    },
    {
      "cell_type": "code",
      "metadata": {
        "id": "fvtgmDoZKYjs",
        "colab": {
          "base_uri": "https://localhost:8080/"
        },
        "outputId": "0ac912b8-1892-4f04-d668-724bab7fe185"
      },
      "source": [
        "# Câu 1b: Tạo series ser_dodai với mỗi phần tử có giá trị là chiều dài của mỗi phần tử trong ser_chuoi\n",
        "ser_dodai = ser_chuoi.str.len()\n",
        "print(ser_dodai)"
      ],
      "execution_count": 52,
      "outputs": [
        {
          "output_type": "stream",
          "name": "stdout",
          "text": [
            "0    3\n",
            "1    4\n",
            "2    5\n",
            "3    3\n",
            "4    5\n",
            "dtype: int64\n"
          ]
        }
      ]
    },
    {
      "cell_type": "markdown",
      "metadata": {
        "id": "Ae422m0WKYjt"
      },
      "source": [
        "<details>\n",
        "  <summary>Nhấn vào đây để xem kết quả!</summary>\n",
        "  <pre>0    3\n",
        "1    4\n",
        "2    5\n",
        "3    3\n",
        "4    5\n",
        "dtype: int64</pre>\n",
        "  \n",
        "</details>"
      ]
    },
    {
      "cell_type": "code",
      "metadata": {
        "id": "KyGe1gF7KYjt",
        "colab": {
          "base_uri": "https://localhost:8080/"
        },
        "outputId": "fe209261-2fbb-4f3e-95b1-981bdb9052e7"
      },
      "source": [
        "# Câu 2: Cho ser = pd.Series(np.array([1, 2, 4, 5, 8, 7, 6, 9])). \n",
        "# Sử dụng biểu thức điều kiện thích hợp để in ra các dòng trong ser có giá trị là số nguyên tố\n",
        "import math \n",
        "\n",
        "ser = pd.Series(np.array([1, 2, 4, 5, 8, 7, 6, 9]))\n",
        "print(ser)\n",
        "\n",
        "def PrimeNum(n):\n",
        "  if (n<=1):\n",
        "    return False\n",
        "  for i in range (2,int(math.sqrt(n))+1):\n",
        "    if (n%i==0):\n",
        "      return False\n",
        "  return True\n",
        "  \n",
        "print(ser[ser.map(lambda x : PrimeNum(x))])"
      ],
      "execution_count": 67,
      "outputs": [
        {
          "output_type": "stream",
          "name": "stdout",
          "text": [
            "0    1\n",
            "1    2\n",
            "2    4\n",
            "3    5\n",
            "4    8\n",
            "5    7\n",
            "6    6\n",
            "7    9\n",
            "dtype: int64\n",
            "1    2\n",
            "3    5\n",
            "5    7\n",
            "dtype: int64\n"
          ]
        }
      ]
    },
    {
      "cell_type": "markdown",
      "metadata": {
        "id": "htMo0WCyKYjt"
      },
      "source": [
        "<details>\n",
        "  <summary>Nhấn vào đây để xem kết quả!</summary>\n",
        "  <pre>1    2\n",
        "3    5\n",
        "5    7\n",
        "dtype: int32\n",
        "</pre>\n",
        "  \n",
        "</details>"
      ]
    },
    {
      "cell_type": "code",
      "metadata": {
        "id": "X_ebGBziKYju",
        "colab": {
          "base_uri": "https://localhost:8080/"
        },
        "outputId": "c89048e9-7fb0-46dc-bf0d-fe8326d8122f"
      },
      "source": [
        "import re\n",
        "# Câu 3: Cho mẫu email như sau: => có thể đợi thầy hướng dẫn\n",
        "pattern ='[A-Za-z0-9._%+-]+@[A-Za-z0-9.-]+\\\\.[A-Za-z]{2,4}'\n",
        "\n",
        "# Tạo một series ser_ch, với mỗi phần tử trong ser_ch là một chuỗi\n",
        "# Gợi ý: 'reading newspaper from tuoitre.vn', 'tubirona@gmail.com', 'nguyen.nn@yahoo.com', 'tran_2014@hotmail.com.vn'\n",
        "ser_ch = pd.Series(['reading newspaper from tuoitre.vn', 'tubirona@gmail.com', 'nguyen.nn@yahoo.com', 'tran_2014@hotmail.com.vn'])\n",
        "is_email = ser_ch.map(lambda x : bool(re.match(pattern,x)))\n",
        "is_email\n",
        "# In ra những dòng trong ser_ch thỏa điều kiện chuỗi là email\n",
        "ser_ch[is_email]"
      ],
      "execution_count": 69,
      "outputs": [
        {
          "output_type": "execute_result",
          "data": {
            "text/plain": [
              "1          tubirona@gmail.com\n",
              "2         nguyen.nn@yahoo.com\n",
              "3    tran_2014@hotmail.com.vn\n",
              "dtype: object"
            ]
          },
          "metadata": {},
          "execution_count": 69
        }
      ]
    },
    {
      "cell_type": "markdown",
      "metadata": {
        "id": "u_WH7sm2KYjv"
      },
      "source": [
        "<details>\n",
        "  <summary>Nhấn vào đây để xem kết quả!</summary>\n",
        "  <pre>1          tubirona@gmail.com\n",
        "2         nguyen.nn@yahoo.com\n",
        "3    tran_2014@hotmail.com.vn\n",
        "dtype: object</pre>\n",
        "  \n",
        "</details>"
      ]
    },
    {
      "cell_type": "code",
      "metadata": {
        "id": "h31IBcvKKYjv",
        "colab": {
          "base_uri": "https://localhost:8080/"
        },
        "outputId": "167de745-d53c-47cc-eac7-eb8f935146b5"
      },
      "source": [
        "# Câu 4: Cho series:\n",
        "ser_names = pd.Series(['Manufacturer', 'Model', 'CarType', 'Min_Price', 'Price', 'Max_Price',\n",
        "       'MPG_city', 'MPG_highway', 'AirBags', 'DriveTrain', 'Cylinders',\n",
        "       'EngineSize', 'Horsepower', 'RPM', 'Rev_per_mile', 'Man_trans_avail',\n",
        "       'Fuel_tank_capacity', 'Passengers', 'Length', 'Wheelbase', 'Width',\n",
        "       'Turn_circle', 'Rear_seat_room', 'Luggage_room', 'Weight', 'Origin',\n",
        "       'Make'])\n",
        "# Sử dụng biểu thức điều kiện thích hợp để in ra các dòng của ser_names thỏa điều kiện trong chuỗi có chữ 'Price'\n",
        "is_hasPrice = ser_names.map(lambda x: \"Price\" in x)\n",
        "is_hasPrice\n",
        "ser_names[is_hasPrice]"
      ],
      "execution_count": 72,
      "outputs": [
        {
          "output_type": "execute_result",
          "data": {
            "text/plain": [
              "3    Min_Price\n",
              "4        Price\n",
              "5    Max_Price\n",
              "dtype: object"
            ]
          },
          "metadata": {},
          "execution_count": 72
        }
      ]
    },
    {
      "cell_type": "markdown",
      "metadata": {
        "id": "TK-mlmoJKYjw"
      },
      "source": [
        "<details>\n",
        "  <summary>Nhấn vào đây để xem kết quả!</summary>\n",
        "  <pre>3    Min_Price\n",
        "4        Price\n",
        "5    Max_Price\n",
        "dtype: object\n",
        "</pre>\n",
        "  \n",
        "</details>"
      ]
    }
  ]
}
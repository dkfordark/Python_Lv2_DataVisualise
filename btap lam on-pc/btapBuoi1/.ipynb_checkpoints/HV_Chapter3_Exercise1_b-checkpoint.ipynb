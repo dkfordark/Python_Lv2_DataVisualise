{
 "cells": [
  {
   "cell_type": "markdown",
   "metadata": {
    "colab_type": "text",
    "id": "dlvl6kiulffy"
   },
   "source": [
    "## Chapter 3 - Exercise 1b: Thực hiện các yêu cầu sau, và đối chiếu với kết quả cho trước"
   ]
  },
  {
   "cell_type": "code",
   "execution_count": 3,
   "metadata": {},
   "outputs": [
    {
     "name": "stdout",
     "output_type": "stream",
     "text": [
      "[2 4]\n"
     ]
    }
   ],
   "source": [
    "import numpy as np\n",
    "\n",
    "# Câu 1: Cho 2 array arr_a = [1,2,3,2,3,4,3,4,5,6] và arr_b = [7,2,10,2,7,4,9,4,9,8]\n",
    "arr_a = [1,2,3,2,3,4,3,4,5,6]\n",
    "arr_b = [7,2,10,2,7,4,9,4,9,8]\n",
    "\n",
    "# Tạo arr_c chỉ lấy duy nhất các phần tử xuất hiện ở cả array arr_a và array arr_b\n",
    "arr_c = np.intersect1d(arr_a,arr_b)\n",
    "print(arr_c)"
   ]
  },
  {
   "cell_type": "markdown",
   "metadata": {},
   "source": [
    "<details>\n",
    "  <summary>Nhấn vào đây để xem kết quả!</summary>\n",
    "  <pre>[2 4]\n",
    "</pre>\n",
    "  \n",
    "</details>"
   ]
  },
  {
   "cell_type": "code",
   "execution_count": 4,
   "metadata": {},
   "outputs": [
    {
     "name": "stdout",
     "output_type": "stream",
     "text": [
      "[1 3 5 6]\n"
     ]
    }
   ],
   "source": [
    "# Câu 2: Từ 2 array arr_a và arr_b ở câu 1 => Tạo array mới arr_d chứa các phần tử chỉ xuất hiện ở array arr_a\n",
    "arr_d = np.setdiff1d(arr_a, arr_b)\n",
    "print(arr_d)\n"
   ]
  },
  {
   "cell_type": "markdown",
   "metadata": {},
   "source": [
    "<details>\n",
    "  <summary>Nhấn vào đây để xem kết quả!</summary>\n",
    "  <pre>[1 3 5 6]\n",
    "</pre>\n",
    "  \n",
    "</details>"
   ]
  },
  {
   "cell_type": "code",
   "execution_count": 5,
   "metadata": {},
   "outputs": [
    {
     "name": "stdout",
     "output_type": "stream",
     "text": [
      "arr_f: [ 6  9 10 27  8  6 25 16]\n"
     ]
    }
   ],
   "source": [
    "# Câu 3: Cho array arr_e = np.array([2, 6, 1, 9, 10, 3, 27, 8, 6, 25, 16]) \n",
    "arr_e = np.array([2, 6, 1, 9, 10, 3, 27, 8, 6, 25, 16]) \n",
    "# Tạo array arr_f chỉ chứa các phần tử có giá trị từ 5 đến 10 của arr_e\n",
    "arr_f = arr_e[arr_e>=5]\n",
    "print(\"arr_f:\",arr_f)\n"
   ]
  },
  {
   "cell_type": "markdown",
   "metadata": {},
   "source": [
    "<details>\n",
    "  <summary>Nhấn vào đây để xem kết quả!</summary>\n",
    "  <pre>[ 6  9 10  8  6]\n",
    "</pre>\n",
    "  \n",
    "</details>"
   ]
  }
 ],
 "metadata": {
  "colab": {
   "name": "Chapter3_Exercise1.ipynb",
   "provenance": []
  },
  "kernelspec": {
   "display_name": "Python 3 (ipykernel)",
   "language": "python",
   "name": "python3"
  },
  "language_info": {
   "codemirror_mode": {
    "name": "ipython",
    "version": 3
   },
   "file_extension": ".py",
   "mimetype": "text/x-python",
   "name": "python",
   "nbconvert_exporter": "python",
   "pygments_lexer": "ipython3",
   "version": "3.9.6"
  }
 },
 "nbformat": 4,
 "nbformat_minor": 1
}

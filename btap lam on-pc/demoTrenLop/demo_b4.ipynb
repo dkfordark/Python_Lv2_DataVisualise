{
 "cells": [
  {
   "cell_type": "code",
   "execution_count": 3,
   "id": "71c8fef8",
   "metadata": {},
   "outputs": [],
   "source": [
    "import pandas as pd\n",
    "import numpy as np"
   ]
  },
  {
   "cell_type": "code",
   "execution_count": 24,
   "id": "97f557b6",
   "metadata": {},
   "outputs": [
    {
     "data": {
      "text/plain": [
       "1    a\n",
       "2    b\n",
       "3    c\n",
       "4    d\n",
       "dtype: object"
      ]
     },
     "execution_count": 24,
     "metadata": {},
     "output_type": "execute_result"
    }
   ],
   "source": [
    "s1 = pd.Series(['a','b','c','d'],index=[1,2,3,4])\n",
    "s1"
   ]
  },
  {
   "cell_type": "code",
   "execution_count": 7,
   "id": "95a659e3",
   "metadata": {},
   "outputs": [
    {
     "data": {
      "text/plain": [
       "a    1\n",
       "b    2\n",
       "c    3\n",
       "dtype: int32"
      ]
     },
     "execution_count": 7,
     "metadata": {},
     "output_type": "execute_result"
    }
   ],
   "source": [
    "a = np.array([1,2,3])\n",
    "s2 = pd.Series(a,index=['a','b','c'])\n",
    "s2"
   ]
  },
  {
   "cell_type": "code",
   "execution_count": 10,
   "id": "3b9839ae",
   "metadata": {},
   "outputs": [
    {
     "data": {
      "text/plain": [
       "a    10\n",
       "b    10\n",
       "c    10\n",
       "d    10\n",
       "dtype: int64"
      ]
     },
     "execution_count": 10,
     "metadata": {},
     "output_type": "execute_result"
    }
   ],
   "source": [
    "s3 = pd.Series(10,index=['a','b','c','d'])\n",
    "s3"
   ]
  },
  {
   "cell_type": "code",
   "execution_count": 40,
   "id": "cc309a32",
   "metadata": {},
   "outputs": [
    {
     "data": {
      "text/plain": [
       "a    1\n",
       "b    2\n",
       "c    3\n",
       "d    4\n",
       "dtype: int64"
      ]
     },
     "execution_count": 40,
     "metadata": {},
     "output_type": "execute_result"
    }
   ],
   "source": [
    "dic1 = {'a':1,'b':2,'c':3,'d':4}\n",
    "s4 = pd.Series(dic1)\n",
    "s4"
   ]
  },
  {
   "cell_type": "code",
   "execution_count": 16,
   "id": "a7fce5c6",
   "metadata": {},
   "outputs": [
    {
     "data": {
      "text/plain": [
       "2"
      ]
     },
     "execution_count": 16,
     "metadata": {},
     "output_type": "execute_result"
    }
   ],
   "source": [
    "s4['b']"
   ]
  },
  {
   "cell_type": "code",
   "execution_count": 17,
   "id": "e15298eb",
   "metadata": {},
   "outputs": [
    {
     "data": {
      "text/plain": [
       "2"
      ]
     },
     "execution_count": 17,
     "metadata": {},
     "output_type": "execute_result"
    }
   ],
   "source": [
    "s4[1]"
   ]
  },
  {
   "cell_type": "code",
   "execution_count": 18,
   "id": "513556c6",
   "metadata": {},
   "outputs": [
    {
     "data": {
      "text/plain": [
       "a    1\n",
       "b    2\n",
       "dtype: int64"
      ]
     },
     "execution_count": 18,
     "metadata": {},
     "output_type": "execute_result"
    }
   ],
   "source": [
    "s4[:2]"
   ]
  },
  {
   "cell_type": "code",
   "execution_count": 19,
   "id": "86ad5502",
   "metadata": {},
   "outputs": [
    {
     "data": {
      "text/plain": [
       "b    2\n",
       "c    3\n",
       "d    4\n",
       "dtype: int64"
      ]
     },
     "execution_count": 19,
     "metadata": {},
     "output_type": "execute_result"
    }
   ],
   "source": [
    "s4[-3:]"
   ]
  },
  {
   "cell_type": "code",
   "execution_count": 20,
   "id": "7add1238",
   "metadata": {},
   "outputs": [
    {
     "data": {
      "text/plain": [
       "a    1\n",
       "c    3\n",
       "dtype: int64"
      ]
     },
     "execution_count": 20,
     "metadata": {},
     "output_type": "execute_result"
    }
   ],
   "source": [
    "s4[::2]"
   ]
  },
  {
   "cell_type": "code",
   "execution_count": 21,
   "id": "f2cdf626",
   "metadata": {},
   "outputs": [
    {
     "data": {
      "text/plain": [
       "a    1\n",
       "b    2\n",
       "d    4\n",
       "dtype: int64"
      ]
     },
     "execution_count": 21,
     "metadata": {},
     "output_type": "execute_result"
    }
   ],
   "source": [
    "s4[['a','b','d']]"
   ]
  },
  {
   "cell_type": "code",
   "execution_count": 25,
   "id": "f2e7a918",
   "metadata": {},
   "outputs": [
    {
     "data": {
      "text/plain": [
       "1    a\n",
       "2    b\n",
       "3    c\n",
       "4    d\n",
       "dtype: object"
      ]
     },
     "execution_count": 25,
     "metadata": {},
     "output_type": "execute_result"
    }
   ],
   "source": [
    "s1"
   ]
  },
  {
   "cell_type": "code",
   "execution_count": 28,
   "id": "82b0c31b",
   "metadata": {},
   "outputs": [
    {
     "data": {
      "text/plain": [
       "a    1\n",
       "b    2\n",
       "c    3\n",
       "d    4\n",
       "dtype: int64"
      ]
     },
     "execution_count": 28,
     "metadata": {},
     "output_type": "execute_result"
    }
   ],
   "source": [
    "s4"
   ]
  },
  {
   "cell_type": "code",
   "execution_count": 30,
   "id": "5b006ab8",
   "metadata": {},
   "outputs": [
    {
     "data": {
      "text/plain": [
       "a    False\n",
       "b     True\n",
       "c    False\n",
       "d     True\n",
       "dtype: bool"
      ]
     },
     "execution_count": 30,
     "metadata": {},
     "output_type": "execute_result"
    }
   ],
   "source": [
    "s4%2==0"
   ]
  },
  {
   "cell_type": "code",
   "execution_count": 31,
   "id": "263f524e",
   "metadata": {},
   "outputs": [
    {
     "data": {
      "text/plain": [
       "b    2\n",
       "d    4\n",
       "dtype: int64"
      ]
     },
     "execution_count": 31,
     "metadata": {},
     "output_type": "execute_result"
    }
   ],
   "source": [
    "s4[s4%2==0]"
   ]
  },
  {
   "cell_type": "code",
   "execution_count": 32,
   "id": "58a087c0",
   "metadata": {},
   "outputs": [
    {
     "data": {
      "text/plain": [
       "a    1\n",
       "b    2\n",
       "c    3\n",
       "d    4\n",
       "e    5\n",
       "dtype: int64"
      ]
     },
     "execution_count": 32,
     "metadata": {},
     "output_type": "execute_result"
    }
   ],
   "source": [
    "s4['e'] = 5\n",
    "s4"
   ]
  },
  {
   "cell_type": "code",
   "execution_count": 46,
   "id": "fb66cf0f",
   "metadata": {},
   "outputs": [
    {
     "data": {
      "text/plain": [
       "a    1\n",
       "c    3\n",
       "dtype: int64"
      ]
     },
     "execution_count": 46,
     "metadata": {},
     "output_type": "execute_result"
    }
   ],
   "source": [
    "t= s4.drop(['b','d'])\n",
    "t"
   ]
  },
  {
   "cell_type": "code",
   "execution_count": 47,
   "id": "5aa820aa",
   "metadata": {},
   "outputs": [
    {
     "data": {
      "text/plain": [
       "a    1\n",
       "b    2\n",
       "c    3\n",
       "d    4\n",
       "dtype: int64"
      ]
     },
     "execution_count": 47,
     "metadata": {},
     "output_type": "execute_result"
    }
   ],
   "source": [
    "s4"
   ]
  },
  {
   "cell_type": "code",
   "execution_count": 48,
   "id": "740974c7",
   "metadata": {},
   "outputs": [
    {
     "data": {
      "text/plain": [
       "a    2\n",
       "b    3\n",
       "c    4\n",
       "d    5\n",
       "dtype: int64"
      ]
     },
     "execution_count": 48,
     "metadata": {},
     "output_type": "execute_result"
    }
   ],
   "source": [
    "s5 = s4 + 1\n",
    "s5"
   ]
  },
  {
   "cell_type": "code",
   "execution_count": 49,
   "id": "2d749f83",
   "metadata": {},
   "outputs": [
    {
     "data": {
      "text/plain": [
       "a     1\n",
       "b     4\n",
       "c     9\n",
       "d    16\n",
       "dtype: int64"
      ]
     },
     "execution_count": 49,
     "metadata": {},
     "output_type": "execute_result"
    }
   ],
   "source": [
    "s6 = s4.map(lambda x : x*x)\n",
    "s6"
   ]
  },
  {
   "cell_type": "code",
   "execution_count": 57,
   "id": "23c0b4f4",
   "metadata": {},
   "outputs": [
    {
     "data": {
      "text/plain": [
       "0    10\n",
       "1    -5\n",
       "2     7\n",
       "3     3\n",
       "4    -8\n",
       "5     7\n",
       "6     4\n",
       "7    10\n",
       "dtype: int64"
      ]
     },
     "execution_count": 57,
     "metadata": {},
     "output_type": "execute_result"
    }
   ],
   "source": [
    "s7 = pd.Series([10,-5,7,3,-8,7,4,10])\n",
    "s7"
   ]
  },
  {
   "cell_type": "code",
   "execution_count": 55,
   "id": "6e69f30a",
   "metadata": {},
   "outputs": [
    {
     "name": "stdout",
     "output_type": "stream",
     "text": [
      "7\n",
      "-8\n",
      "10\n",
      "[10  5  7  3  8  7  4]\n"
     ]
    }
   ],
   "source": [
    "print(s7.count())\n",
    "print(s7.min())\n",
    "print(s7.max())\n",
    "print(s7.abs().values)"
   ]
  },
  {
   "cell_type": "code",
   "execution_count": 58,
   "id": "c5e5152b",
   "metadata": {},
   "outputs": [
    {
     "data": {
      "text/plain": [
       "0     7\n",
       "1    10\n",
       "dtype: int64"
      ]
     },
     "execution_count": 58,
     "metadata": {},
     "output_type": "execute_result"
    }
   ],
   "source": [
    "s7.mode()"
   ]
  },
  {
   "cell_type": "code",
   "execution_count": 59,
   "id": "6a6bcdf7",
   "metadata": {},
   "outputs": [
    {
     "name": "stdout",
     "output_type": "stream",
     "text": [
      "28\n",
      "2352000\n"
     ]
    }
   ],
   "source": [
    "print(s7.sum())\n",
    "print(s7.prod())"
   ]
  },
  {
   "cell_type": "code",
   "execution_count": 60,
   "id": "f797fc12",
   "metadata": {},
   "outputs": [
    {
     "name": "stdout",
     "output_type": "stream",
     "text": [
      "0    10\n",
      "1     5\n",
      "2    12\n",
      "3    15\n",
      "4     7\n",
      "5    14\n",
      "6    18\n",
      "7    28\n",
      "dtype: int64\n"
     ]
    }
   ],
   "source": [
    "print(s7.cumsum())"
   ]
  },
  {
   "cell_type": "code",
   "execution_count": 61,
   "id": "451a21c7",
   "metadata": {},
   "outputs": [
    {
     "name": "stdout",
     "output_type": "stream",
     "text": [
      "0         10\n",
      "1        -50\n",
      "2       -350\n",
      "3      -1050\n",
      "4       8400\n",
      "5      58800\n",
      "6     235200\n",
      "7    2352000\n",
      "dtype: int64\n"
     ]
    }
   ],
   "source": [
    "print(s7.cumprod())"
   ]
  },
  {
   "cell_type": "code",
   "execution_count": 62,
   "id": "6a0dfb0b",
   "metadata": {},
   "outputs": [
    {
     "data": {
      "text/plain": [
       "a    1\n",
       "b    2\n",
       "c    3\n",
       "d    4\n",
       "dtype: int64"
      ]
     },
     "execution_count": 62,
     "metadata": {},
     "output_type": "execute_result"
    }
   ],
   "source": [
    "s4"
   ]
  },
  {
   "cell_type": "code",
   "execution_count": 69,
   "id": "8ebb1f54",
   "metadata": {},
   "outputs": [],
   "source": [
    "s2['d'] = 10"
   ]
  },
  {
   "cell_type": "code",
   "execution_count": 70,
   "id": "e5d2c009",
   "metadata": {},
   "outputs": [
    {
     "data": {
      "text/plain": [
       "a     2\n",
       "b     4\n",
       "c     6\n",
       "d    14\n",
       "dtype: int64"
      ]
     },
     "execution_count": 70,
     "metadata": {},
     "output_type": "execute_result"
    }
   ],
   "source": [
    "s2 + s4"
   ]
  },
  {
   "cell_type": "code",
   "execution_count": 65,
   "id": "58818668",
   "metadata": {},
   "outputs": [
    {
     "data": {
      "text/plain": [
       "0    1\n",
       "1    2\n",
       "2    3\n",
       "3    4\n",
       "dtype: int64"
      ]
     },
     "execution_count": 65,
     "metadata": {},
     "output_type": "execute_result"
    }
   ],
   "source": [
    "s5 = pd.Series([1,2,3,4])\n",
    "s5"
   ]
  },
  {
   "cell_type": "code",
   "execution_count": 66,
   "id": "1ef8ce4a",
   "metadata": {},
   "outputs": [
    {
     "data": {
      "text/plain": [
       "0   NaN\n",
       "1   NaN\n",
       "2   NaN\n",
       "3   NaN\n",
       "a   NaN\n",
       "b   NaN\n",
       "c   NaN\n",
       "d   NaN\n",
       "dtype: float64"
      ]
     },
     "execution_count": 66,
     "metadata": {},
     "output_type": "execute_result"
    }
   ],
   "source": [
    "s5 + s4"
   ]
  },
  {
   "cell_type": "code",
   "execution_count": 72,
   "id": "b58b03b4",
   "metadata": {},
   "outputs": [
    {
     "data": {
      "text/plain": [
       "a    False\n",
       "b    False\n",
       "c    False\n",
       "d     True\n",
       "dtype: bool"
      ]
     },
     "execution_count": 72,
     "metadata": {},
     "output_type": "execute_result"
    }
   ],
   "source": [
    "s4 < s2"
   ]
  },
  {
   "cell_type": "code",
   "execution_count": 75,
   "id": "5b2e4611",
   "metadata": {},
   "outputs": [
    {
     "data": {
      "text/plain": [
       "0     1\n",
       "1     2\n",
       "2     3\n",
       "3     4\n",
       "4     6\n",
       "5    12\n",
       "dtype: int64"
      ]
     },
     "execution_count": 75,
     "metadata": {},
     "output_type": "execute_result"
    }
   ],
   "source": [
    "s6 = s5.append(pd.Series([6,12]),ignore_index=True)\n",
    "s6"
   ]
  },
  {
   "cell_type": "code",
   "execution_count": 74,
   "id": "27a91ca7",
   "metadata": {},
   "outputs": [
    {
     "data": {
      "text/plain": [
       "0    1\n",
       "0    6\n",
       "dtype: int64"
      ]
     },
     "execution_count": 74,
     "metadata": {},
     "output_type": "execute_result"
    }
   ],
   "source": [
    "s6[0]"
   ]
  },
  {
   "cell_type": "code",
   "execution_count": 76,
   "id": "15ad934b",
   "metadata": {},
   "outputs": [
    {
     "data": {
      "text/plain": [
       "a    1\n",
       "b    2\n",
       "c    3\n",
       "d    4\n",
       "dtype: int64"
      ]
     },
     "execution_count": 76,
     "metadata": {},
     "output_type": "execute_result"
    }
   ],
   "source": [
    "s4"
   ]
  },
  {
   "cell_type": "code",
   "execution_count": 78,
   "id": "fa7f01cb",
   "metadata": {},
   "outputs": [
    {
     "data": {
      "text/plain": [
       "0    False\n",
       "1    False\n",
       "2    False\n",
       "3    False\n",
       "4     True\n",
       "5     True\n",
       "dtype: bool"
      ]
     },
     "execution_count": 78,
     "metadata": {},
     "output_type": "execute_result"
    }
   ],
   "source": [
    "~s6.isin(s4)"
   ]
  },
  {
   "cell_type": "code",
   "execution_count": 80,
   "id": "b9f5aa70",
   "metadata": {},
   "outputs": [],
   "source": [
    "s7 = s6[~s6.isin(s4)]"
   ]
  },
  {
   "cell_type": "code",
   "execution_count": 81,
   "id": "9f41e513",
   "metadata": {},
   "outputs": [
    {
     "data": {
      "text/plain": [
       "4     6\n",
       "5    12\n",
       "dtype: int64"
      ]
     },
     "execution_count": 81,
     "metadata": {},
     "output_type": "execute_result"
    }
   ],
   "source": [
    "s7"
   ]
  },
  {
   "cell_type": "code",
   "execution_count": null,
   "id": "eb81c7ba",
   "metadata": {},
   "outputs": [],
   "source": []
  }
 ],
 "metadata": {
  "kernelspec": {
   "display_name": "Python 3",
   "language": "python",
   "name": "python3"
  },
  "language_info": {
   "codemirror_mode": {
    "name": "ipython",
    "version": 3
   },
   "file_extension": ".py",
   "mimetype": "text/x-python",
   "name": "python",
   "nbconvert_exporter": "python",
   "pygments_lexer": "ipython3",
   "version": "3.6.8"
  }
 },
 "nbformat": 4,
 "nbformat_minor": 5
}

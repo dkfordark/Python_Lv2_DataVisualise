{
 "cells": [
  {
   "cell_type": "code",
   "execution_count": 1,
   "id": "2c5f9a8a",
   "metadata": {},
   "outputs": [],
   "source": [
    "import numpy as np"
   ]
  },
  {
   "cell_type": "code",
   "execution_count": 2,
   "id": "510696c0",
   "metadata": {},
   "outputs": [
    {
     "data": {
      "text/plain": [
       "array([ 0,  1,  2,  3,  4,  5,  6,  7,  8,  9, 10, 11, 12, 13, 14, 15, 16,\n",
       "       17, 18, 19, 20, 21, 22, 23])"
      ]
     },
     "execution_count": 2,
     "metadata": {},
     "output_type": "execute_result"
    }
   ],
   "source": [
    "a = np.arange(24)\n",
    "a"
   ]
  },
  {
   "cell_type": "code",
   "execution_count": 3,
   "id": "b5fc3350",
   "metadata": {},
   "outputs": [
    {
     "data": {
      "text/plain": [
       "(24,)"
      ]
     },
     "execution_count": 3,
     "metadata": {},
     "output_type": "execute_result"
    }
   ],
   "source": [
    "a.shape"
   ]
  },
  {
   "cell_type": "code",
   "execution_count": 4,
   "id": "608e126b",
   "metadata": {},
   "outputs": [
    {
     "data": {
      "text/plain": [
       "24"
      ]
     },
     "execution_count": 4,
     "metadata": {},
     "output_type": "execute_result"
    }
   ],
   "source": [
    "a.size"
   ]
  },
  {
   "cell_type": "code",
   "execution_count": 8,
   "id": "e801d76a",
   "metadata": {},
   "outputs": [
    {
     "data": {
      "text/plain": [
       "array([[[ 0,  1,  2],\n",
       "        [ 3,  4,  5]],\n",
       "\n",
       "       [[ 6,  7,  8],\n",
       "        [ 9, 10, 11]],\n",
       "\n",
       "       [[12, 13, 14],\n",
       "        [15, 16, 17]],\n",
       "\n",
       "       [[18, 19, 20],\n",
       "        [21, 22, 23]]])"
      ]
     },
     "execution_count": 8,
     "metadata": {},
     "output_type": "execute_result"
    }
   ],
   "source": [
    "b = a.reshape(4,2,3)\n",
    "b"
   ]
  },
  {
   "cell_type": "code",
   "execution_count": 6,
   "id": "0428847c",
   "metadata": {},
   "outputs": [
    {
     "data": {
      "text/plain": [
       "array([ 0,  1,  2,  3,  4,  5,  6,  7,  8,  9, 10, 11, 12, 13, 14, 15, 16,\n",
       "       17, 18, 19, 20, 21, 22, 23])"
      ]
     },
     "execution_count": 6,
     "metadata": {},
     "output_type": "execute_result"
    }
   ],
   "source": [
    "a"
   ]
  },
  {
   "cell_type": "code",
   "execution_count": 9,
   "id": "90ba7af0",
   "metadata": {},
   "outputs": [
    {
     "data": {
      "text/plain": [
       "array([[ 7,  8],\n",
       "       [10, 11]])"
      ]
     },
     "execution_count": 9,
     "metadata": {},
     "output_type": "execute_result"
    }
   ],
   "source": [
    "#array[Chi so ma tran,Chi so dong,Chi so cot]\n",
    "#array[star:stop:step,star:stop:step,star:stop:step]\n",
    "b[1,:,1:]"
   ]
  },
  {
   "cell_type": "code",
   "execution_count": 12,
   "id": "990a2200",
   "metadata": {},
   "outputs": [
    {
     "data": {
      "text/plain": [
       "array([[[ 6,  8],\n",
       "        [ 9, 11]],\n",
       "\n",
       "       [[18, 20],\n",
       "        [21, 23]]])"
      ]
     },
     "execution_count": 12,
     "metadata": {},
     "output_type": "execute_result"
    }
   ],
   "source": [
    "# 6,8,9,11,18,20,21,23\n",
    "b[1::2,:,::2]"
   ]
  },
  {
   "cell_type": "code",
   "execution_count": 13,
   "id": "1ba14c4b",
   "metadata": {},
   "outputs": [
    {
     "data": {
      "text/plain": [
       "array([[ 6,  7,  8],\n",
       "       [ 9, 10, 11]])"
      ]
     },
     "execution_count": 13,
     "metadata": {},
     "output_type": "execute_result"
    }
   ],
   "source": [
    "b[1]"
   ]
  },
  {
   "cell_type": "code",
   "execution_count": 14,
   "id": "07247626",
   "metadata": {},
   "outputs": [
    {
     "data": {
      "text/plain": [
       "array([[[ 6,  7,  8],\n",
       "        [ 9, 10, 11]]])"
      ]
     },
     "execution_count": 14,
     "metadata": {},
     "output_type": "execute_result"
    }
   ],
   "source": [
    "b[1:2]"
   ]
  },
  {
   "cell_type": "code",
   "execution_count": 16,
   "id": "c005766b",
   "metadata": {},
   "outputs": [
    {
     "data": {
      "text/plain": [
       "array([[ 9, 10, 11]])"
      ]
     },
     "execution_count": 16,
     "metadata": {},
     "output_type": "execute_result"
    }
   ],
   "source": [
    "b[1,1:,:]"
   ]
  },
  {
   "cell_type": "code",
   "execution_count": 17,
   "id": "69ecf743",
   "metadata": {},
   "outputs": [
    {
     "data": {
      "text/plain": [
       "array([ 9, 10, 11])"
      ]
     },
     "execution_count": 17,
     "metadata": {},
     "output_type": "execute_result"
    }
   ],
   "source": [
    "b[1,1,:]"
   ]
  },
  {
   "cell_type": "code",
   "execution_count": 20,
   "id": "d0b3ecd3",
   "metadata": {},
   "outputs": [
    {
     "data": {
      "text/plain": [
       "array([[[ 0,  1,  2],\n",
       "        [ 3,  4,  5]],\n",
       "\n",
       "       [[ 6,  7,  8],\n",
       "        [ 9, 10, 11]],\n",
       "\n",
       "       [[12, 13, 14],\n",
       "        [15, 16, 17]],\n",
       "\n",
       "       [[18, 19, 20],\n",
       "        [21, 22, 23]]])"
      ]
     },
     "execution_count": 20,
     "metadata": {},
     "output_type": "execute_result"
    }
   ],
   "source": [
    "b"
   ]
  },
  {
   "cell_type": "code",
   "execution_count": 21,
   "id": "0091e023",
   "metadata": {},
   "outputs": [
    {
     "data": {
      "text/plain": [
       "23"
      ]
     },
     "execution_count": 21,
     "metadata": {},
     "output_type": "execute_result"
    }
   ],
   "source": [
    "np.amax(b)"
   ]
  },
  {
   "cell_type": "code",
   "execution_count": 24,
   "id": "cb802ce9",
   "metadata": {},
   "outputs": [
    {
     "data": {
      "text/plain": [
       "array([ 8, 11])"
      ]
     },
     "execution_count": 24,
     "metadata": {},
     "output_type": "execute_result"
    }
   ],
   "source": [
    "np.amax(b[1],1)"
   ]
  },
  {
   "cell_type": "code",
   "execution_count": 26,
   "id": "169bc4ee",
   "metadata": {},
   "outputs": [
    {
     "data": {
      "text/plain": [
       "(array([3, 3, 3, 3, 3, 3], dtype=int64),\n",
       " array([0, 0, 0, 1, 1, 1], dtype=int64),\n",
       " array([0, 1, 2, 0, 1, 2], dtype=int64))"
      ]
     },
     "execution_count": 26,
     "metadata": {},
     "output_type": "execute_result"
    }
   ],
   "source": [
    "ind = np.where(b>17)\n",
    "ind"
   ]
  },
  {
   "cell_type": "code",
   "execution_count": 27,
   "id": "10f58324",
   "metadata": {},
   "outputs": [
    {
     "data": {
      "text/plain": [
       "array([18, 19, 20, 21, 22, 23])"
      ]
     },
     "execution_count": 27,
     "metadata": {},
     "output_type": "execute_result"
    }
   ],
   "source": [
    "b[ind]"
   ]
  },
  {
   "cell_type": "code",
   "execution_count": 28,
   "id": "60538295",
   "metadata": {},
   "outputs": [
    {
     "data": {
      "text/plain": [
       "array([18, 19, 20, 21, 22, 23])"
      ]
     },
     "execution_count": 28,
     "metadata": {},
     "output_type": "execute_result"
    }
   ],
   "source": [
    "b[b>17]"
   ]
  },
  {
   "cell_type": "code",
   "execution_count": 41,
   "id": "cf251d4d",
   "metadata": {},
   "outputs": [
    {
     "data": {
      "text/plain": [
       "dtype([('age', '<i8'), ('name', '<U30')])"
      ]
     },
     "execution_count": 41,
     "metadata": {},
     "output_type": "execute_result"
    }
   ],
   "source": [
    "dt = np.dtype([('age','i8'),('name','U30')])\n",
    "dt"
   ]
  },
  {
   "cell_type": "code",
   "execution_count": 42,
   "id": "cdb7006c",
   "metadata": {},
   "outputs": [],
   "source": [
    "name=['lan','an','trung']\n",
    "age=[10,20,30]"
   ]
  },
  {
   "cell_type": "code",
   "execution_count": 43,
   "id": "899ff90b",
   "metadata": {},
   "outputs": [],
   "source": [
    "emp = np.empty([len(name)],dtype=dt)"
   ]
  },
  {
   "cell_type": "code",
   "execution_count": 44,
   "id": "f2a9d06e",
   "metadata": {},
   "outputs": [],
   "source": [
    "emp['name'] = name\n",
    "emp['age'] = age"
   ]
  },
  {
   "cell_type": "code",
   "execution_count": 45,
   "id": "55cc17c6",
   "metadata": {},
   "outputs": [
    {
     "data": {
      "text/plain": [
       "array([(10, 'lan'), (20, 'an'), (30, 'trung')],\n",
       "      dtype=[('age', '<i8'), ('name', '<U30')])"
      ]
     },
     "execution_count": 45,
     "metadata": {},
     "output_type": "execute_result"
    }
   ],
   "source": [
    "emp"
   ]
  },
  {
   "cell_type": "code",
   "execution_count": 52,
   "id": "753f8479",
   "metadata": {},
   "outputs": [
    {
     "data": {
      "text/plain": [
       "[(1, 4), (2, 5), (3, 6)]"
      ]
     },
     "execution_count": 52,
     "metadata": {},
     "output_type": "execute_result"
    }
   ],
   "source": [
    "a = [1,2,3]\n",
    "b = (4,5,6)\n",
    "c = list(zip(a,b))\n",
    "c"
   ]
  },
  {
   "cell_type": "code",
   "execution_count": 54,
   "id": "b00eb6c0",
   "metadata": {},
   "outputs": [
    {
     "name": "stdout",
     "output_type": "stream",
     "text": [
      "1  -  4\n",
      "2  -  5\n",
      "3  -  6\n"
     ]
    }
   ],
   "source": [
    "for x in c:\n",
    "    print(x[0],' - ', x[1])"
   ]
  },
  {
   "cell_type": "code",
   "execution_count": 55,
   "id": "5ee4f7f9",
   "metadata": {},
   "outputs": [
    {
     "name": "stdout",
     "output_type": "stream",
     "text": [
      "1  -  4\n",
      "2  -  5\n",
      "3  -  6\n"
     ]
    }
   ],
   "source": [
    "for x,y in c:\n",
    "    print(x,' - ', y)"
   ]
  },
  {
   "cell_type": "code",
   "execution_count": 58,
   "id": "41ce470e",
   "metadata": {},
   "outputs": [
    {
     "data": {
      "text/plain": [
       "array([(10, 'lan'), (20, 'an'), (30, 'trung')],\n",
       "      dtype=[('age', '<i8'), ('name', '<U30')])"
      ]
     },
     "execution_count": 58,
     "metadata": {},
     "output_type": "execute_result"
    }
   ],
   "source": [
    "emp = np.array(list(zip(age,name)),dtype=dt)\n",
    "emp"
   ]
  },
  {
   "cell_type": "code",
   "execution_count": 60,
   "id": "ca417f9b",
   "metadata": {},
   "outputs": [
    {
     "data": {
      "text/plain": [
       "array([[ True,  True,  True],\n",
       "       [ True,  True,  True],\n",
       "       [ True,  True,  True]])"
      ]
     },
     "execution_count": 60,
     "metadata": {},
     "output_type": "execute_result"
    }
   ],
   "source": [
    "a = np.ones((3,3),dtype=bool)\n",
    "a"
   ]
  },
  {
   "cell_type": "code",
   "execution_count": 62,
   "id": "fba0e907",
   "metadata": {},
   "outputs": [
    {
     "data": {
      "text/plain": [
       "array([[1, 2, 3],\n",
       "       [4, 5, 6],\n",
       "       [7, 8, 9]])"
      ]
     },
     "execution_count": 62,
     "metadata": {},
     "output_type": "execute_result"
    }
   ],
   "source": [
    "a = np.array([[1,2,3],[4,5,6],[7,8,9]])\n",
    "a"
   ]
  },
  {
   "cell_type": "code",
   "execution_count": 63,
   "id": "cc861441",
   "metadata": {},
   "outputs": [
    {
     "data": {
      "text/plain": [
       "array([[7, 8, 9],\n",
       "       [1, 2, 3],\n",
       "       [4, 5, 6]])"
      ]
     },
     "execution_count": 63,
     "metadata": {},
     "output_type": "execute_result"
    }
   ],
   "source": [
    "#2,0,1\n",
    "a[[2,0,1],:]"
   ]
  },
  {
   "cell_type": "code",
   "execution_count": 64,
   "id": "506735f8",
   "metadata": {},
   "outputs": [
    {
     "data": {
      "text/plain": [
       "array([[1, 2, 3],\n",
       "       [4, 5, 6],\n",
       "       [7, 8, 9]])"
      ]
     },
     "execution_count": 64,
     "metadata": {},
     "output_type": "execute_result"
    }
   ],
   "source": [
    "a"
   ]
  },
  {
   "cell_type": "code",
   "execution_count": 65,
   "id": "8425e980",
   "metadata": {},
   "outputs": [
    {
     "data": {
      "text/plain": [
       "array([[3, 1, 2],\n",
       "       [6, 4, 5],\n",
       "       [9, 7, 8]])"
      ]
     },
     "execution_count": 65,
     "metadata": {},
     "output_type": "execute_result"
    }
   ],
   "source": [
    "a[:,[2,0,1]]"
   ]
  },
  {
   "cell_type": "code",
   "execution_count": 67,
   "id": "ab7b0205",
   "metadata": {},
   "outputs": [
    {
     "name": "stdout",
     "output_type": "stream",
     "text": [
      "[[ True  True  True]\n",
      " [ True  True  True]\n",
      " [ True  True  True]]\n"
     ]
    }
   ],
   "source": [
    "a = np.ones((3,3),dtype=bool)\n",
    "print(a)"
   ]
  },
  {
   "cell_type": "code",
   "execution_count": null,
   "id": "5e543d81",
   "metadata": {},
   "outputs": [],
   "source": []
  }
 ],
 "metadata": {
  "kernelspec": {
   "display_name": "Python 3",
   "language": "python",
   "name": "python3"
  },
  "language_info": {
   "codemirror_mode": {
    "name": "ipython",
    "version": 3
   },
   "file_extension": ".py",
   "mimetype": "text/x-python",
   "name": "python",
   "nbconvert_exporter": "python",
   "pygments_lexer": "ipython3",
   "version": "3.6.8"
  }
 },
 "nbformat": 4,
 "nbformat_minor": 5
}
